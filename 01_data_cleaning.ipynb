{
 "cells": [
  {
   "cell_type": "markdown",
   "id": "bb1e456b-92c8-4822-ba71-86df9b01faca",
   "metadata": {},
   "source": [
    "# Data cleaning\n",
    "\n",
    "元のデータに対し、以下の処理を行う\n",
    "- 全角・半角の統一\n",
    "- 同じ意味で別の書き方をしている処理の統一"
   ]
  },
  {
   "cell_type": "code",
   "execution_count": 53,
   "id": "e3e190c4-20ab-4d42-828e-6ea4ef43710c",
   "metadata": {},
   "outputs": [],
   "source": [
    "import re\n",
    "import unicodedata\n",
    "\n",
    "import numpy as np\n",
    "import pandas as pd"
   ]
  },
  {
   "cell_type": "code",
   "execution_count": 54,
   "id": "bd64f35c-7001-4630-9177-1ca54c31f86b",
   "metadata": {},
   "outputs": [],
   "source": [
    "path_input = \"../data/input/\"\n",
    "path_train = \"../data/input/train.csv\"\n",
    "path_test = \"../data/input/test.csv\""
   ]
  },
  {
   "cell_type": "markdown",
   "id": "1837ad55-150a-4074-94e0-58536fd04573",
   "metadata": {},
   "source": [
    "## Data read"
   ]
  },
  {
   "cell_type": "code",
   "execution_count": 55,
   "id": "56860159-21dd-476a-ac98-dcfda3d081c8",
   "metadata": {},
   "outputs": [],
   "source": [
    "train_df = pd.read_csv(path_train)\n",
    "test_df = pd.read_csv(path_test)"
   ]
  },
  {
   "cell_type": "code",
   "execution_count": 56,
   "id": "05b466a2-e65b-4484-b88e-141061b2a6e8",
   "metadata": {},
   "outputs": [
    {
     "name": "stdout",
     "output_type": "stream",
     "text": [
      "<class 'pandas.core.frame.DataFrame'>\n",
      "RangeIndex: 3489 entries, 0 to 3488\n",
      "Data columns (total 18 columns):\n",
      " #   Column                  Non-Null Count  Dtype  \n",
      "---  ------                  --------------  -----  \n",
      " 0   id                      3489 non-null   int64  \n",
      " 1   Age                     3389 non-null   object \n",
      " 2   TypeofContact           3483 non-null   object \n",
      " 3   CityTier                3489 non-null   int64  \n",
      " 4   DurationOfPitch         3368 non-null   object \n",
      " 5   Occupation              3489 non-null   object \n",
      " 6   Gender                  3489 non-null   object \n",
      " 7   NumberOfPersonVisiting  3489 non-null   float64\n",
      " 8   NumberOfFollowups       3456 non-null   float64\n",
      " 9   ProductPitched          3489 non-null   object \n",
      " 10  PreferredPropertyStar   3489 non-null   float64\n",
      " 11  NumberOfTrips           3467 non-null   object \n",
      " 12  Passport                3489 non-null   int64  \n",
      " 13  PitchSatisfactionScore  3489 non-null   int64  \n",
      " 14  Designation             3489 non-null   object \n",
      " 15  MonthlyIncome           3433 non-null   object \n",
      " 16  customer_info           3489 non-null   object \n",
      " 17  ProdTaken               3489 non-null   int64  \n",
      "dtypes: float64(3), int64(5), object(10)\n",
      "memory usage: 490.8+ KB\n"
     ]
    }
   ],
   "source": [
    "train_df.info()"
   ]
  },
  {
   "cell_type": "code",
   "execution_count": 57,
   "id": "994bc08a-191a-4178-b0d3-f47ef6a2cd53",
   "metadata": {},
   "outputs": [
    {
     "name": "stdout",
     "output_type": "stream",
     "text": [
      "id\n",
      "Age\n",
      "['50歳' '56歳' nan '三十七歳' '48歳' '19歳' '47歳' '49歳' '33歳' '３１歳' '51歳' '46歳'\n",
      " '４９歳' '53才' '20歳' '25歳' '五十三歳' '20代' '44歳' '30歳' '34歳' '29歳' '30代' '41歳'\n",
      " '50代' '52歳' '22歳' '３６歳' '28歳' '25才' '五十一歳' '48才' '38才' '三十三歳' '42際' '５０代'\n",
      " '35才' '59歳' '四十三歳' '32歳' '４２才' '53歳' '58歳' '40代' '二十六歳' '52際' '54歳' '59才'\n",
      " '29才' '21才' '57歳' '37歳' '35歳' '36才' '38歳' '３７歳' '50才' '51才' '43歳' '四十歳'\n",
      " '26歳' '31歳' '27歳' '40歳' '３４歳' '40際' '21歳' '24才' '45歳' '36歳' '41才' '38際'\n",
      " '18歳' '39歳' '４６歳' '４０代' '５５歳' '58際' '24歳' '41際' '三十一歳' '52才' '３０代' '28才'\n",
      " '55際' '60代' '27際' '３２歳' '60歳' '五十四歳' '29際' '三十四歳' '４７歳' '37際' '二十四歳'\n",
      " '四十七歳' '58才' '39才' '23才' '３３歳' '４２歳' '４５歳' '３９歳' '５４歳' '55歳' '42歳' '３８歳'\n",
      " '47才' '５１歳' '３９才' '51際' '二十七歳' '30才' '２６歳' '４０歳' '36際' '三十歳' '23歳' '二十二歳'\n",
      " '37才' '３０歳' '２８歳' '34才' '五十歳' '四十一歳' '５９歳' '３５歳' '２２歳' '３７才' '四十九歳' '42才'\n",
      " '４４歳' '２５歳' '44際' '33才' '28際' '２４才' '55才' '４８歳' '四十四歳' '31才' '２０代' '二十歳'\n",
      " '22際' '31際' '二十三歳' '39際' '59際' '３３才' '三十六歳' '10代' '２７歳' '49才' '４３歳' '32際'\n",
      " '４１歳' '33際' '二十五歳' '27才' '46際' '二十九歳' '32才' '22才' '２９才' '43才' '四十八歳'\n",
      " '30際' '２９歳' '４３才' '三十八歳' '４５才' '45才' '二十一歳' '57才' '40才' '５２歳' '１９歳' '５３歳'\n",
      " '35際' '61歳' '34際' '２４歳' '四十二歳' '５６才' '26際' '５０歳' '五十八歳' '20才' '50際' '57際'\n",
      " '23際' '１９才' '５７歳' '26才' '五十六歳' '54才' '５８歳' '６０歳' '三十五歳' '44才' '４０才' '２２才'\n",
      " '４４才' '２８才' '３８才' '三十九歳' '54際' '二十八歳' '56際' '五十二歳' '３６才' '46才' '43際'\n",
      " '２０歳' '４１才' '24際' '53際' '45際' '21際' '60際' '２１歳' '３５才' '五十五歳' '47際' '三十二歳'\n",
      " '18際' '四十六歳' '３４才' '56才' '３２才' '５６歳' '４７才' '49際' '48際' '５１才' '五十九歳'\n",
      " '六十一歳' '２１才']\n",
      "TypeofContact\n",
      "['Self Enquiry' 'Company Invited' nan]\n",
      "CityTier\n",
      "[2 1 3]\n",
      "DurationOfPitch\n",
      "['900秒' '14分' '10分' '1080秒' '1020秒' '16分' '840秒' '22分' '20分' '11分' '32分'\n",
      " '17分' '24分' '1380秒' '35分' '420秒' '5分' '480秒' '8分' '15分' '960秒' nan '540秒'\n",
      " '26分' '13分' '12分' '21分' '25分' '720秒' '9分' '7分' '780秒' '6分' '18分' '31分'\n",
      " '600秒' '23分' '28分' '2160秒' '660秒' '1500秒' '1920秒' '27分' '33分' '360秒'\n",
      " '1320秒' '1740秒' '1680秒' '29分' '1620秒' '1440秒' '1800秒' '30分' '34分' '4分'\n",
      " '19分' '1860秒' '1260秒' '2100秒' '300秒' '2040秒' '1200秒' '1560秒' '1980秒'\n",
      " '36分' '1140秒']\n",
      "Occupation\n",
      "['Large Business' 'Salaried' 'Small Business']\n",
      "Gender\n",
      "['male' 'Male' 'Female' 'female' 'ｆｅｍａｌｅ' 'FEMALE' 'Ｍａｌｅ' 'Fe Male' 'MALE'\n",
      " 'ｆｅ\\u3000ｍａｌｅ' 'fe male' 'Ｆｅｍａｌｅ' 'ｍａｌｅ' 'FE MALE' 'Ｆｅ\\u3000Ｍａｌｅ'\n",
      " 'ＦＥＭＡＬＥ' 'ＦＥ\\u3000ＭＡＬＥ' 'ＭＡＬＥ']\n",
      "NumberOfPersonVisiting\n",
      "[1. 2. 3. 4.]\n",
      "NumberOfFollowups\n",
      "[  4.   3.   5.   1.   2. 100.  nan 500. 400.   6. 300. 600.]\n",
      "ProductPitched\n",
      "['Basic' 'Standard' 'Super Deluxe' 'basic' 'SUPER DELUXE' 'super deluxe'\n",
      " 'BASIC' 'Deluxe' 'deluxe' 'STANᗞARD' 'STANDARD' 'Вasic' 'DELUXE'\n",
      " 'ꓢuper De|uxe' 'Ѕuper Deluxe' 'BAՏIC' 'Basıc' 'King' 'Super De|uxe'\n",
      " 'king' 'standard' 'KING' 'BΑSIC' 'B𝖺sic' 'De|uxe' 'ᎠELUXE' 'Basiϲ'\n",
      " 'de|u×e' 'Delu×e' 'Standar𝔡' 'Basi𝘤' 'Βasic' 'Տuper Deluxe' 'Staոdard'\n",
      " 'BAꓢIC' 'ᗞeluxe' 'Տtandard' 'Βası𝘤' 'Kıng' 'Baｓic' 'basıc' 'super de|uxe'\n",
      " 'Stand𝖺rd' 'S𝘵andard' '𐊡asic' 'St𝖺ndard' 'Super ᗞeluxe' 'de|uxe'\n",
      " 'ｓuper deluxe' 'STANDARᎠ' 'Basiс' 'DΕLUXΕ' 'ꓢuper Deluxe' 'BASΙC'\n",
      " 'ꓢtandard' 'В𝖺sic' 'Standa𝘳d' 'basiϲ' 'staոdard' 'Super Ꭰeluxe' 'DELUXΕ'\n",
      " 'Ѕtandard' '𐊡asi𝘤' 'Ꭰeluxe' 'Kıոg' '𝙳eluxe' 'Kiոg' 'Βasıc' 'BASIС'\n",
      " 'SUPER DΕLUXE' 'B𝖺si𝘤' 'ΒASIС' 'Super 𝙳eluxe' 'Տtanda𝘳d' 'Basıϲ'\n",
      " 'ЅTANDARD']\n",
      "PreferredPropertyStar\n",
      "[3. 4. 5.]\n",
      "NumberOfTrips\n",
      "['5' '2' '4' '1' '年に1回' '年に2回' '年に6回' '3' '年に5回' '7' '6' '半年に1回' '年に4回'\n",
      " '年に3回' '8' '年に8回' nan '年に7回' '四半期に1回']\n",
      "Passport\n",
      "[1 0]\n",
      "PitchSatisfactionScore\n",
      "[4 5 3 2 1]\n",
      "Designation\n",
      "['Executive' 'Senior Manager' 'AVP' 'Manager' 'Senior Manage𝙧' 'Execuｔive'\n",
      " 'Μanager' 'VP' 'Sеnior Manager' 'ΑVP' 'АVP' 'E×ecutive' 'Mαnage𝙧'\n",
      " 'Executiѵе' 'Ѕenior Manager' 'Managеr' 'Еxecutivе' 'Senior Μanαger'\n",
      " 'Еxecuｔive' 'Exеcutivе' 'Exеcutive' 'Senior Managе𝙧' 'Manage𝙧'\n",
      " 'Senio𝙧 Manager' 'Manαger' 'Μanage𝙧' 'Manαgеr' 'Senior Managеr'\n",
      " 'Executivе' 'Executiѵe' 'Е×еcutive' 'Еxecutive' 'VＰ' 'Տenior Μanager'\n",
      " 'Exеcutiѵе' 'Senior Manαger' 'Mαnager' 'Senior Mαnαger' 'E×еcutiѵe'\n",
      " 'Ѕenior Manαger' 'Exеcｕtive' 'Execｕtive' 'Mαnαger' 'Μanagеr' 'E×ecｕtive'\n",
      " 'Sеnior Managеr' 'Տenior Manager' 'AVＰ' 'Exеcｕtivе' 'Mαnagеr' 'Еxеcutivе'\n",
      " 'Senior Mαnager' 'Е×ecutive']\n",
      "MonthlyIncome\n",
      "['253905.0' '404475.0' '278145.0' ... '317340.0' '527910.0' '278190.0']\n",
      "customer_info\n",
      "['未婚 車未所持 子供なし' '離婚済み,車あり,子供無し' '結婚済み、自動車未所有,子供なし' ...\n",
      " '結婚済み,車保有なし,子供有り 1人' '結婚済み/自家用車なし/1児' '独身／車所持／こども1人']\n",
      "ProdTaken\n",
      "[1 0]\n"
     ]
    }
   ],
   "source": [
    "for feature in train_df.columns:\n",
    "    print(feature)\n",
    "    if feature == \"id\":\n",
    "        continue\n",
    "    print(train_df[feature].unique())"
   ]
  },
  {
   "cell_type": "markdown",
   "id": "d236d726-2254-4db5-8016-78bec3d30202",
   "metadata": {},
   "source": [
    "## それぞれ修正"
   ]
  },
  {
   "cell_type": "markdown",
   "id": "7b7e43fa-6b03-4503-a5c3-bf67e5599ebd",
   "metadata": {},
   "source": [
    "### Age"
   ]
  },
  {
   "cell_type": "code",
   "execution_count": 58,
   "id": "185bbb46-c535-49fa-b1b5-ec5a0cf2d804",
   "metadata": {},
   "outputs": [],
   "source": [
    "# 全角数字と漢数字を変換する関数\n",
    "def normalize_age(age_str):\n",
    "    if pd.isna(age_str):\n",
    "        return age_str\n",
    "\n",
    "    # 漢数字をアラビア数字に変換\n",
    "    kanji_to_num = {\n",
    "        \"百\": \"100\",\n",
    "        \"九十九\": \"99\",\n",
    "        \"九十八\": \"98\",\n",
    "        \"九十七\": \"97\",\n",
    "        \"九十六\": \"96\",\n",
    "        \"九十五\": \"95\",\n",
    "        \"九十四\": \"94\",\n",
    "        \"九十三\": \"93\",\n",
    "        \"九十二\": \"92\",\n",
    "        \"九十一\": \"91\",\n",
    "        \"九十\": \"90\",\n",
    "        \"八十九\": \"89\",\n",
    "        \"八十八\": \"88\",\n",
    "        \"八十七\": \"87\",\n",
    "        \"八十六\": \"86\",\n",
    "        \"八十五\": \"85\",\n",
    "        \"八十四\": \"84\",\n",
    "        \"八十三\": \"83\",\n",
    "        \"八十二\": \"82\",\n",
    "        \"八十一\": \"81\",\n",
    "        \"八十\": \"80\",\n",
    "        \"七十九\": \"79\",\n",
    "        \"七十八\": \"78\",\n",
    "        \"七十七\": \"77\",\n",
    "        \"七十六\": \"76\",\n",
    "        \"七十五\": \"75\",\n",
    "        \"七十四\": \"74\",\n",
    "        \"七十三\": \"73\",\n",
    "        \"七十二\": \"72\",\n",
    "        \"七十一\": \"71\",\n",
    "        \"七十\": \"70\",\n",
    "        \"六十九\": \"69\",\n",
    "        \"六十八\": \"68\",\n",
    "        \"六十七\": \"67\",\n",
    "        \"六十六\": \"66\",\n",
    "        \"六十五\": \"65\",\n",
    "        \"六十四\": \"64\",\n",
    "        \"六十三\": \"63\",\n",
    "        \"六十二\": \"62\",\n",
    "        \"六十一\": \"61\",\n",
    "        \"六十\": \"60\",\n",
    "        \"五十九\": \"59\",\n",
    "        \"五十八\": \"58\",\n",
    "        \"五十七\": \"57\",\n",
    "        \"五十六\": \"56\",\n",
    "        \"五十五\": \"55\",\n",
    "        \"五十四\": \"54\",\n",
    "        \"五十三\": \"53\",\n",
    "        \"五十二\": \"52\",\n",
    "        \"五十一\": \"51\",\n",
    "        \"五十\": \"50\",\n",
    "        \"四十九\": \"49\",\n",
    "        \"四十八\": \"48\",\n",
    "        \"四十七\": \"47\",\n",
    "        \"四十六\": \"46\",\n",
    "        \"四十五\": \"45\",\n",
    "        \"四十四\": \"44\",\n",
    "        \"四十三\": \"43\",\n",
    "        \"四十二\": \"42\",\n",
    "        \"四十一\": \"41\",\n",
    "        \"四十\": \"40\",\n",
    "        \"三十九\": \"39\",\n",
    "        \"三十八\": \"38\",\n",
    "        \"三十七\": \"37\",\n",
    "        \"三十六\": \"36\",\n",
    "        \"三十五\": \"35\",\n",
    "        \"三十四\": \"34\",\n",
    "        \"三十三\": \"33\",\n",
    "        \"三十二\": \"32\",\n",
    "        \"三十一\": \"31\",\n",
    "        \"三十\": \"30\",\n",
    "        \"二十九\": \"29\",\n",
    "        \"二十八\": \"28\",\n",
    "        \"二十七\": \"27\",\n",
    "        \"二十六\": \"26\",\n",
    "        \"二十五\": \"25\",\n",
    "        \"二十四\": \"24\",\n",
    "        \"二十三\": \"23\",\n",
    "        \"二十二\": \"22\",\n",
    "        \"二十一\": \"21\",\n",
    "        \"二十\": \"20\",\n",
    "        \"十九\": \"19\",\n",
    "        \"十八\": \"18\",\n",
    "        \"十七\": \"17\",\n",
    "        \"十六\": \"16\",\n",
    "        \"十五\": \"15\",\n",
    "        \"十四\": \"14\",\n",
    "        \"十三\": \"13\",\n",
    "        \"十二\": \"12\",\n",
    "        \"十一\": \"11\",\n",
    "        \"十\": \"10\",\n",
    "        \"九\": \"9\",\n",
    "        \"八\": \"8\",\n",
    "        \"七\": \"7\",\n",
    "        \"六\": \"6\",\n",
    "        \"五\": \"5\",\n",
    "        \"四\": \"4\",\n",
    "        \"三\": \"3\",\n",
    "        \"二\": \"2\",\n",
    "        \"一\": \"1\",\n",
    "    }\n",
    "\n",
    "    for kanji, num in kanji_to_num.items():\n",
    "        age_str = age_str.replace(kanji, num)\n",
    "\n",
    "    # 全角を半角に変換\n",
    "    age_str = age_str.translate(str.maketrans(\"０１２３４５６７８９\", \"0123456789\"))\n",
    "\n",
    "    # 「歳」と「才」を「歳」に統一\n",
    "    age_str = age_str.replace(\"才\", \"歳\")\n",
    "    age_str = age_str.replace(\"際\", \"歳\")\n",
    "    # 「〜代」を中央値に変換、ただし10代と60代だけは例外として以下の変換\n",
    "    if \"代\" in age_str:\n",
    "        if age_str == \"10代\":\n",
    "            return \"19歳\"\n",
    "        elif age_str == \"20代\":\n",
    "            return \"25歳\"\n",
    "        elif age_str == \"30代\":\n",
    "            return \"35歳\"\n",
    "        elif age_str == \"40代\":\n",
    "            return \"45歳\"\n",
    "        elif age_str == \"50代\":\n",
    "            return \"55歳\"\n",
    "        elif age_str == \"60代\":\n",
    "            return \"61歳\"\n",
    "    return age_str"
   ]
  },
  {
   "cell_type": "code",
   "execution_count": 59,
   "id": "62719473-0c29-46b5-b9ab-f820b103e85c",
   "metadata": {},
   "outputs": [],
   "source": [
    "# 年齢の前の数字だけを取得する関数\n",
    "def extract_number(age_str):\n",
    "    if pd.isna(age_str):\n",
    "        return age_str\n",
    "    # 正規表現を使って数字を抽出\n",
    "    match = re.search(r\"\\d+\", age_str)\n",
    "    return match.group(0) if match else age_str"
   ]
  },
  {
   "cell_type": "code",
   "execution_count": 60,
   "id": "060d8700-cb41-48af-b602-433115f482b2",
   "metadata": {
    "tags": []
   },
   "outputs": [
    {
     "name": "stdout",
     "output_type": "stream",
     "text": [
      "[50. 56. nan 37. 48. 19. 47. 49. 33. 31. 51. 46. 53. 20. 25. 44. 30. 34.\n",
      " 29. 35. 41. 55. 52. 22. 36. 28. 38. 42. 59. 43. 32. 58. 45. 26. 54. 21.\n",
      " 57. 40. 27. 24. 18. 39. 61. 60. 23.]\n",
      "35.0    232\n",
      "45.0    193\n",
      "36.0    134\n",
      "55.0    128\n",
      "33.0    127\n",
      "37.0    118\n",
      "34.0    112\n",
      "31.0    109\n",
      "32.0    108\n",
      "38.0    107\n",
      "39.0    105\n",
      "25.0     99\n",
      "42.0     96\n",
      "40.0     95\n",
      "41.0     94\n",
      "43.0     91\n",
      "30.0     87\n",
      "51.0     83\n",
      "52.0     83\n",
      "50.0     76\n",
      "46.0     75\n",
      "29.0     74\n",
      "28.0     74\n",
      "53.0     71\n",
      "47.0     69\n",
      "48.0     68\n",
      "49.0     68\n",
      "26.0     67\n",
      "44.0     62\n",
      "54.0     61\n",
      "27.0     56\n",
      "56.0     49\n",
      "22.0     43\n",
      "24.0     38\n",
      "23.0     38\n",
      "57.0     36\n",
      "21.0     34\n",
      "58.0     33\n",
      "20.0     28\n",
      "59.0     25\n",
      "60.0     16\n",
      "19.0     12\n",
      "61.0      9\n",
      "18.0      6\n",
      "Name: Age, dtype: int64\n",
      "100\n"
     ]
    }
   ],
   "source": [
    "# データを変換して抽出\n",
    "normalized_data = [normalize_age(age) for age in train_df[\"Age\"]]\n",
    "extracted_numbers = [extract_number(age) for age in normalized_data]\n",
    "train_df[\"Age\"] = extracted_numbers\n",
    "\n",
    "# Age 列を int に変換\n",
    "train_df[\"Age\"] = train_df[\"Age\"].astype(float)\n",
    "train_df[\"Age\"] = train_df[\"Age\"].fillna(np.nan)\n",
    "\n",
    "print(train_df[\"Age\"].unique())\n",
    "print(train_df[\"Age\"].value_counts())\n",
    "print(train_df[\"Age\"].isnull().sum())"
   ]
  },
  {
   "cell_type": "code",
   "execution_count": null,
   "id": "ad4b4c47",
   "metadata": {},
   "outputs": [],
   "source": []
  },
  {
   "cell_type": "code",
   "execution_count": 61,
   "id": "f4b5d1a6-a793-40f4-8cdf-f07264c5e66a",
   "metadata": {
    "tags": []
   },
   "outputs": [
    {
     "name": "stdout",
     "output_type": "stream",
     "text": [
      "['48' '35' '25' '21' '41' '45' '44' '30' '31' '47' '43' '55' '32' '20'\n",
      " '28' '56' '39' '38' '36' nan '37' '34' '33' '46' '42' '27' '29' '59' '19'\n",
      " '24' '49' '51' '50' '23' '52' '58' '26' '57' '54' '60' '40' '22' '53'\n",
      " '18' '61']\n",
      "35    237\n",
      "45    161\n",
      "33    136\n",
      "32    126\n",
      "55    124\n",
      "36    123\n",
      "34    122\n",
      "37    120\n",
      "31    108\n",
      "30    107\n",
      "42    102\n",
      "39     99\n",
      "38     99\n",
      "25     94\n",
      "40     93\n",
      "41     92\n",
      "50     89\n",
      "28     86\n",
      "29     84\n",
      "43     79\n",
      "47     75\n",
      "51     73\n",
      "52     71\n",
      "46     71\n",
      "54     70\n",
      "49     68\n",
      "44     67\n",
      "27     66\n",
      "53     60\n",
      "24     58\n",
      "48     57\n",
      "26     56\n",
      "57     50\n",
      "56     48\n",
      "22     38\n",
      "23     36\n",
      "58     30\n",
      "59     28\n",
      "21     24\n",
      "20     19\n",
      "19     16\n",
      "60     14\n",
      "18     11\n",
      "61      9\n",
      "Name: Age, dtype: int64\n",
      "93\n"
     ]
    }
   ],
   "source": [
    "# データを変換して抽出\n",
    "normalized_data = [normalize_age(age) for age in test_df[\"Age\"]]\n",
    "extracted_numbers = [extract_number(age) for age in normalized_data]\n",
    "test_df[\"Age\"] = extracted_numbers\n",
    "\n",
    "# Age 列を int に変換\n",
    "try:\n",
    "    test_df[\"Age\"] = test_df[\"Age\"].astype(int)\n",
    "except ValueError:\n",
    "    test_df[\"Age\"] = test_df[\"Age\"].fillna(np.nan)\n",
    "\n",
    "print(test_df[\"Age\"].unique())\n",
    "print(test_df[\"Age\"].value_counts())\n",
    "print(test_df[\"Age\"].isnull().sum())"
   ]
  },
  {
   "cell_type": "markdown",
   "id": "48159543-c88a-4915-a68c-d1f6d3f0acd4",
   "metadata": {},
   "source": [
    "### DurationOfPitch\n",
    "\n",
    "秒に統一"
   ]
  },
  {
   "cell_type": "code",
   "execution_count": 62,
   "id": "9d1e8f59-dc72-43e1-a373-f28fcb8d8e26",
   "metadata": {},
   "outputs": [],
   "source": [
    "# 秒単位に変換する関数\n",
    "def convert_to_seconds(time_str):\n",
    "    if pd.isna(time_str):\n",
    "        return time_str\n",
    "\n",
    "    if \"秒\" in time_str:\n",
    "        # '秒'を含む場合、そのまま数値に変換\n",
    "        return int(re.sub(r\"秒\", \"\", time_str))\n",
    "\n",
    "    elif \"分\" in time_str:\n",
    "        # '分'を含む場合、分を秒に変換\n",
    "        minutes = int(re.sub(r\"分\", \"\", time_str))\n",
    "        return minutes * 60"
   ]
  },
  {
   "cell_type": "code",
   "execution_count": 63,
   "id": "e08ad2b9-71b6-47c1-a3e6-9e7c4313f8b0",
   "metadata": {},
   "outputs": [
    {
     "name": "stdout",
     "output_type": "stream",
     "text": [
      "[ 900.  840.  600. 1080. 1020.  960. 1320. 1200.  660. 1920. 1440. 1380.\n",
      " 2100.  420.  300.  480.   nan  540. 1560.  780.  720. 1260. 1500.  360.\n",
      " 1860. 1680. 2160. 1620. 1980. 1740. 1800. 2040.  240. 1140.]\n"
     ]
    }
   ],
   "source": [
    "convert_to_sconds_data = [\n",
    "    convert_to_seconds(time) for time in train_df[\"DurationOfPitch\"]\n",
    "]\n",
    "train_df[\"DurationOfPitch\"] = convert_to_sconds_data\n",
    "\n",
    "print(train_df[\"DurationOfPitch\"].unique())"
   ]
  },
  {
   "cell_type": "code",
   "execution_count": 64,
   "id": "a2b03b59-4b7e-4620-b5b6-9286527bf728",
   "metadata": {},
   "outputs": [
    {
     "name": "stdout",
     "output_type": "stream",
     "text": [
      "[ 780.  720.  540.  420.   nan  480.  960. 1320. 1440. 1020.  660. 1380.\n",
      "  600.  900. 1080.  840. 1140. 1860.  300. 1980.  360. 1680. 1620. 1200.\n",
      " 1560. 1260. 1740. 2040. 1920. 1800. 2100. 1500.  240. 2160.]\n"
     ]
    }
   ],
   "source": [
    "convert_to_sconds_data = [\n",
    "    convert_to_seconds(time) for time in test_df[\"DurationOfPitch\"]\n",
    "]\n",
    "test_df[\"DurationOfPitch\"] = convert_to_sconds_data\n",
    "\n",
    "print(test_df[\"DurationOfPitch\"].unique())"
   ]
  },
  {
   "cell_type": "markdown",
   "id": "9a3d0489-9442-4d8a-98f4-ed4ef994e7ff",
   "metadata": {},
   "source": [
    "### Gender"
   ]
  },
  {
   "cell_type": "code",
   "execution_count": 65,
   "id": "74b36011-07a6-4c0f-86f0-f3c5628701d9",
   "metadata": {},
   "outputs": [],
   "source": [
    "# 性別を変換する関数\n",
    "def normalize_gender(gender):\n",
    "    if pd.isna(gender):\n",
    "        return gender\n",
    "\n",
    "    # 全角文字を半角文字に変換\n",
    "    gender = gender.translate(\n",
    "        str.maketrans(\n",
    "            \"ＡＢＣＤＥＦＧＨＩＪＫＬＭＮＯＰＱＲＳＴＵＶＷＸＹＺａｂｃｄｅｆｇｈｉｊｋｌｍｎｏｐｑｒｓｔｕｖｗｘｙｚ\",\n",
    "            \"ABCDEFGHIJKLMNOPQRSTUVWXYZabcdefghijklmnopqrstuvwxyz\",\n",
    "        )\n",
    "    )\n",
    "\n",
    "    # 空白を削除\n",
    "    gender = re.sub(r\"\\s+\", \"\", gender)\n",
    "\n",
    "    # 小文字に変換してから、Male または Female に統一\n",
    "    gender = gender.lower()\n",
    "    if \"female\" in gender:\n",
    "        return \"Female\"\n",
    "    elif \"male\" in gender:\n",
    "        return \"Male\"\n",
    "    else:\n",
    "        return gender  # 予期しない入力がある場合"
   ]
  },
  {
   "cell_type": "code",
   "execution_count": 66,
   "id": "7fb25371-b229-4886-adb3-bf8a72241055",
   "metadata": {},
   "outputs": [
    {
     "name": "stdout",
     "output_type": "stream",
     "text": [
      "['Male' 'Female']\n",
      "Gender_replace  Gender \n",
      "Female          FE MALE      23\n",
      "                FEMALE       99\n",
      "                Fe Male     109\n",
      "                Female      739\n",
      "                fe male      29\n",
      "                female      266\n",
      "                ＦＥ　ＭＡＬＥ       1\n",
      "                ＦＥＭＡＬＥ       13\n",
      "                Ｆｅ　Ｍａｌｅ      15\n",
      "                Ｆｅｍａｌｅ       89\n",
      "                ｆｅ　ｍａｌｅ       6\n",
      "                ｆｅｍａｌｅ       36\n",
      "Male            MALE        183\n",
      "                Male       1226\n",
      "                male        468\n",
      "                ＭＡＬＥ         18\n",
      "                Ｍａｌｅ        126\n",
      "                ｍａｌｅ         43\n",
      "dtype: int64\n"
     ]
    }
   ],
   "source": [
    "train_df[\"Gender_replace\"] = train_df[\"Gender\"].apply(normalize_gender)\n",
    "print(train_df[\"Gender_replace\"].unique())\n",
    "print(train_df.groupby([\"Gender_replace\", \"Gender\"]).size())\n",
    "train_df[\"Gender\"] = train_df[\"Gender_replace\"]\n",
    "train_df = train_df.drop([\"Gender_replace\"], axis=1)"
   ]
  },
  {
   "cell_type": "code",
   "execution_count": 67,
   "id": "37da5ed3-7c4e-4ca7-b67a-43ab6f38b622",
   "metadata": {},
   "outputs": [
    {
     "name": "stdout",
     "output_type": "stream",
     "text": [
      "['Male' 'Female']\n",
      "Gender_replace  Gender \n",
      "Female          FE MALE      20\n",
      "                FEMALE       98\n",
      "                Fe Male     104\n",
      "                Female      702\n",
      "                fe male      28\n",
      "                female      238\n",
      "                ＦＥＭＡＬＥ        8\n",
      "                Ｆｅ　Ｍａｌｅ      11\n",
      "                Ｆｅｍａｌｅ       92\n",
      "                ｆｅ　ｍａｌｅ       5\n",
      "                ｆｅｍａｌｅ       29\n",
      "Male            MALE        180\n",
      "                Male       1299\n",
      "                male        472\n",
      "                ＭＡＬＥ         20\n",
      "                Ｍａｌｅ        134\n",
      "                ｍａｌｅ         49\n",
      "dtype: int64\n"
     ]
    }
   ],
   "source": [
    "test_df[\"Gender_replace\"] = test_df[\"Gender\"].apply(normalize_gender)\n",
    "print(test_df[\"Gender_replace\"].unique())\n",
    "print(test_df.groupby([\"Gender_replace\", \"Gender\"]).size())\n",
    "test_df[\"Gender\"] = test_df[\"Gender_replace\"]\n",
    "test_df = test_df.drop([\"Gender_replace\"], axis=1)"
   ]
  },
  {
   "cell_type": "markdown",
   "id": "13f47982-9edd-4832-8084-13dcb85229f0",
   "metadata": {},
   "source": [
    "### ProductPitched"
   ]
  },
  {
   "cell_type": "code",
   "execution_count": 68,
   "id": "2017aeb0-8829-498d-9074-95e911c97290",
   "metadata": {},
   "outputs": [],
   "source": [
    "# 半角小文字に変換する関数\n",
    "def normalize_to_lowercase(text):\n",
    "    if pd.isna(text):\n",
    "        return text\n",
    "\n",
    "    # Unicode正規化 (NFKD)で分解してから再結合\n",
    "    text = unicodedata.normalize(\"NFKD\", text)\n",
    "\n",
    "    # ASCII文字のみ残す\n",
    "    text = \"\".join(c for c in text if unicodedata.category(c) != \"Mn\")\n",
    "\n",
    "    # 小文字に変換\n",
    "    return text.lower()"
   ]
  },
  {
   "cell_type": "code",
   "execution_count": 69,
   "id": "09700a11-f044-4ae3-af2e-27a61e8a7b23",
   "metadata": {},
   "outputs": [],
   "source": [
    "# 置換マッピング\n",
    "replace_map = {\n",
    "    \"ᗞ\": \"d\",\n",
    "    \"в\": \"b\",\n",
    "    \"ꓢ\": \"s\",\n",
    "    \"ѕ\": \"s\",\n",
    "    \"տ\": \"s\",\n",
    "    \"ꭰ\": \"d\",\n",
    "    \"ς\": \"c\",\n",
    "    \"α\": \"a\",\n",
    "    \"×\": \"x\",\n",
    "    \"β\": \"b\",\n",
    "    \"ո\": \"n\",\n",
    "    \"ı\": \"i\",\n",
    "    \"c\": \"c\",\n",
    "    \"𐊡\": \"b\",\n",
    "    \"ε\": \"e\",\n",
    "    \"ι\": \"i\",\n",
    "    \"ϲ\": \"c\",\n",
    "    \"ꓢ\": \"s\",\n",
    "    \"ꭰ\": \"d\",\n",
    "    \"і\": \"i\",\n",
    "    \"ѕ\": \"s\",\n",
    "    \"|\": \"l\",\n",
    "    \"basiс\": \"basic\",\n",
    "}"
   ]
  },
  {
   "cell_type": "code",
   "execution_count": 70,
   "id": "9fbef749-b587-4522-948f-3b9d8a16e3cb",
   "metadata": {},
   "outputs": [],
   "source": [
    "# 文字を置換する関数\n",
    "def replace_characters(text):\n",
    "    for original, replacement in replace_map.items():\n",
    "        text = text.replace(original, replacement)\n",
    "    return text"
   ]
  },
  {
   "cell_type": "code",
   "execution_count": 71,
   "id": "c2df0a68-ffc2-4cdb-a9ac-7be6b6febcb7",
   "metadata": {},
   "outputs": [
    {
     "name": "stdout",
     "output_type": "stream",
     "text": [
      "['basic' 'standard' 'super deluxe' 'deluxe' 'king']\n"
     ]
    }
   ],
   "source": [
    "train_df[\"ProductPitched\"] = train_df[\"ProductPitched\"].apply(normalize_to_lowercase)\n",
    "train_df[\"ProductPitched\"] = train_df[\"ProductPitched\"].apply(replace_characters)\n",
    "# 統一するためにさらに小文字化\n",
    "train_df[\"ProductPitched\"] = train_df[\"ProductPitched\"].str.lower()\n",
    "print(train_df[\"ProductPitched\"].unique())"
   ]
  },
  {
   "cell_type": "code",
   "execution_count": 72,
   "id": "62024a91-888d-49af-a2f3-524fb3bf0910",
   "metadata": {},
   "outputs": [
    {
     "name": "stdout",
     "output_type": "stream",
     "text": [
      "['super deluxe' 'standard' 'basic' 'deluxe' 'king']\n"
     ]
    }
   ],
   "source": [
    "test_df[\"ProductPitched\"] = test_df[\"ProductPitched\"].apply(normalize_to_lowercase)\n",
    "test_df[\"ProductPitched\"] = test_df[\"ProductPitched\"].apply(replace_characters)\n",
    "# 統一するためにさらに小文字化\n",
    "test_df[\"ProductPitched\"] = test_df[\"ProductPitched\"].str.lower()\n",
    "print(test_df[\"ProductPitched\"].unique())"
   ]
  },
  {
   "cell_type": "markdown",
   "id": "bbcfdee9-30d4-4b8f-9069-337f10621f50",
   "metadata": {},
   "source": [
    "## NumberOfFollowups"
   ]
  },
  {
   "cell_type": "code",
   "execution_count": 73,
   "id": "25d55948-5a43-4749-bb5a-7676f39855c7",
   "metadata": {},
   "outputs": [],
   "source": [
    "# 外れ値を補正\n",
    "def replace_over_100(num):\n",
    "    if num == 100.0:\n",
    "        return 1.0\n",
    "    elif num == 200.0:\n",
    "        return 2.0\n",
    "    elif num == 300.0:\n",
    "        return 3.0\n",
    "    elif num == 400.0:\n",
    "        return 4.0\n",
    "    elif num == 500:\n",
    "        return 5.0\n",
    "    elif num == 600:\n",
    "        return 6.0\n",
    "    else:\n",
    "        return num"
   ]
  },
  {
   "cell_type": "code",
   "execution_count": 74,
   "id": "82b3c783-3a7d-44cb-8c45-193863443871",
   "metadata": {},
   "outputs": [],
   "source": [
    "train_df[\"NumberOfFollowups\"] = train_df[\"NumberOfFollowups\"].apply(replace_over_100)\n",
    "test_df[\"NumberOfFollowups\"] = test_df[\"NumberOfFollowups\"].apply(replace_over_100)"
   ]
  },
  {
   "cell_type": "code",
   "execution_count": 75,
   "id": "00aa7816-e26f-4ed5-bdf9-37d3b8f89e27",
   "metadata": {},
   "outputs": [
    {
     "data": {
      "text/plain": [
       "NumberOfFollowups\n",
       "1.0      78\n",
       "2.0     108\n",
       "3.0    1296\n",
       "4.0    1411\n",
       "5.0     524\n",
       "6.0      39\n",
       "dtype: int64"
      ]
     },
     "execution_count": 75,
     "metadata": {},
     "output_type": "execute_result"
    }
   ],
   "source": [
    "train_df.groupby(\"NumberOfFollowups\").size()"
   ]
  },
  {
   "cell_type": "code",
   "execution_count": 76,
   "id": "ddfae247-9181-483f-9616-82fc23defb60",
   "metadata": {},
   "outputs": [
    {
     "data": {
      "text/plain": [
       "NumberOfFollowups\n",
       "1.0     100\n",
       "2.0     105\n",
       "3.0    1265\n",
       "4.0    1366\n",
       "5.0     598\n",
       "6.0      31\n",
       "dtype: int64"
      ]
     },
     "execution_count": 76,
     "metadata": {},
     "output_type": "execute_result"
    }
   ],
   "source": [
    "test_df.groupby(\"NumberOfFollowups\").size()"
   ]
  },
  {
   "cell_type": "markdown",
   "id": "8614f595-1c66-471d-8598-df98a02bc94c",
   "metadata": {},
   "source": [
    "### NumberOfTrips"
   ]
  },
  {
   "cell_type": "code",
   "execution_count": 77,
   "id": "9728d695-cf5d-41d3-983f-2e676cd4650e",
   "metadata": {},
   "outputs": [],
   "source": [
    "# テキストを数値に変換する関数\n",
    "def convert_to_numeric(entry):\n",
    "    if pd.isna(entry):\n",
    "        return entry\n",
    "\n",
    "    # 年にn回を数字に変換\n",
    "    match = re.match(r\"年に(\\d+)回\", entry)\n",
    "    if match:\n",
    "        return int(match.group(1))\n",
    "\n",
    "    # 半年に1回は年に2回に相当\n",
    "    if entry == \"半年に1回\":\n",
    "        return 2\n",
    "\n",
    "    # 四半期に1回は年に4回に相当\n",
    "    if entry == \"四半期に1回\":\n",
    "        return 4\n",
    "\n",
    "    # それ以外の数字として扱える部分はそのまま返す\n",
    "    if entry.isdigit():\n",
    "        return int(entry)\n",
    "\n",
    "    return entry"
   ]
  },
  {
   "cell_type": "code",
   "execution_count": 78,
   "id": "7f5d67c5-1225-47cb-93f3-552268183c41",
   "metadata": {},
   "outputs": [
    {
     "name": "stdout",
     "output_type": "stream",
     "text": [
      "NumberOfTrips  NumberOfTrips_num\n",
      "1              1.0                   349\n",
      "2              2.0                  1006\n",
      "3              3.0                   699\n",
      "4              4.0                   141\n",
      "5              5.0                   436\n",
      "6              6.0                   109\n",
      "7              7.0                   219\n",
      "8              8.0                     8\n",
      "半年に1回          2.0                    17\n",
      "四半期に1回         4.0                     3\n",
      "年に1回           1.0                    60\n",
      "年に2回           2.0                   141\n",
      "年に3回           3.0                   121\n",
      "年に4回           4.0                    19\n",
      "年に5回           5.0                    79\n",
      "年に6回           6.0                    21\n",
      "年に7回           7.0                    37\n",
      "年に8回           8.0                     2\n",
      "dtype: int64\n"
     ]
    }
   ],
   "source": [
    "train_df[\"NumberOfTrips_num\"] = train_df[\"NumberOfTrips\"].apply(convert_to_numeric)\n",
    "print(train_df.groupby([\"NumberOfTrips\", \"NumberOfTrips_num\"]).size())\n",
    "train_df[\"NumberOfTrips\"] = train_df[\"NumberOfTrips_num\"]\n",
    "train_df = train_df.drop([\"NumberOfTrips_num\"], axis=1)"
   ]
  },
  {
   "cell_type": "code",
   "execution_count": 79,
   "id": "723fe70b-1ce3-4ced-bb4a-8b6f2773d244",
   "metadata": {},
   "outputs": [
    {
     "name": "stdout",
     "output_type": "stream",
     "text": [
      "NumberOfTrips  NumberOfTrips_num\n",
      "1              1.0                  320\n",
      "2              2.0                  950\n",
      "3              3.0                  762\n",
      "4              4.0                  136\n",
      "5              5.0                  400\n",
      "6              6.0                  125\n",
      "7              7.0                  226\n",
      "8              8.0                   12\n",
      "半年に1回          2.0                   10\n",
      "四半期に1回         4.0                    3\n",
      "年に1回           1.0                   72\n",
      "年に2回           2.0                  153\n",
      "年に3回           3.0                  124\n",
      "年に4回           4.0                   31\n",
      "年に5回           5.0                   62\n",
      "年に6回           6.0                   26\n",
      "年に7回           7.0                   31\n",
      "年に8回           8.0                    4\n",
      "dtype: int64\n"
     ]
    }
   ],
   "source": [
    "test_df[\"NumberOfTrips_num\"] = test_df[\"NumberOfTrips\"].apply(convert_to_numeric)\n",
    "print(test_df.groupby([\"NumberOfTrips\", \"NumberOfTrips_num\"]).size())\n",
    "test_df[\"NumberOfTrips\"] = test_df[\"NumberOfTrips_num\"]\n",
    "test_df = test_df.drop([\"NumberOfTrips_num\"], axis=1)"
   ]
  },
  {
   "cell_type": "markdown",
   "id": "9393da59-186d-46e8-925a-d35d47e470b7",
   "metadata": {},
   "source": [
    "### Designation"
   ]
  },
  {
   "cell_type": "code",
   "execution_count": 80,
   "id": "51d2c93b-8d10-43d9-9cdf-7b399eb887b6",
   "metadata": {},
   "outputs": [],
   "source": [
    "# 置換マッピングを作成\n",
    "designation_replace_map = {\n",
    "    \"Μ\": \"M\",\n",
    "    \"Α\": \"A\",\n",
    "    \"А\": \"A\",\n",
    "    \"ѵ\": \"v\",\n",
    "    \"Ѕ\": \"S\",\n",
    "    \"е\": \"e\",\n",
    "    \"Е\": \"E\",\n",
    "    \"ѕ\": \"s\",\n",
    "    \"𝙧\": \"r\",\n",
    "    \"α\": \"a\",\n",
    "    \"×\": \"x\",\n",
    "    \"Ⅴ\": \"V\",\n",
    "    \"Ｐ\": \"P\",\n",
    "    \"Տ\": \"S\",\n",
    "    \"c\": \"c\",\n",
    "    \"u\": \"u\",\n",
    "    \"ｔ\": \"t\",\n",
    "    \"v\": \"v\",\n",
    "    \"μ\": \"m\",\n",
    "    \"е\": \"e\",\n",
    "    \"α\": \"a\",\n",
    "    \"а\": \"a\",\n",
    "    \"ѵ\": \"v\",\n",
    "    \"ѕ\": \"s\",\n",
    "    \"տ\": \"s\",\n",
    "}"
   ]
  },
  {
   "cell_type": "code",
   "execution_count": 81,
   "id": "2386ab2b-3fa3-4ab0-a972-7bcdccdad506",
   "metadata": {},
   "outputs": [],
   "source": [
    "# 文字を置換する関数\n",
    "def designation_replace_characters(text):\n",
    "    if pd.isna(text):\n",
    "        return text\n",
    "    text = unicodedata.normalize(\"NFKD\", text)  # 正規化\n",
    "    for original, replacement in designation_replace_map.items():\n",
    "        text = text.replace(original, replacement)\n",
    "    return text.lower()"
   ]
  },
  {
   "cell_type": "code",
   "execution_count": 82,
   "id": "3874fa9c-f0d5-4b2f-96cf-28ebdeddd9ba",
   "metadata": {},
   "outputs": [
    {
     "name": "stdout",
     "output_type": "stream",
     "text": [
      "['executive' 'senior manager' 'avp' 'manager' 'vp']\n",
      "Designation_replace  Designation   \n",
      "avp                  AVP                299\n",
      "                     AVＰ                  2\n",
      "                     ΑVP                  3\n",
      "                     АVP                  7\n",
      "executive            Executive         1090\n",
      "                     Executivе            7\n",
      "                     Executiѵe            6\n",
      "                     Executiѵе            2\n",
      "                     Execuｔive            5\n",
      "                     Execｕtive            1\n",
      "                     Exеcutive           10\n",
      "                     Exеcutivе            9\n",
      "                     Exеcutiѵе            3\n",
      "                     Exеcｕtive            2\n",
      "                     Exеcｕtivе            1\n",
      "                     E×ecutive            2\n",
      "                     E×ecｕtive            1\n",
      "                     E×еcutiѵe            1\n",
      "                     Еxecutive            3\n",
      "                     Еxecutivе            2\n",
      "                     Еxecuｔive            1\n",
      "                     Еxеcutivе            1\n",
      "                     Е×ecutive            1\n",
      "                     Е×еcutive            2\n",
      "manager              Manager           1011\n",
      "                     Manage𝙧              3\n",
      "                     Managеr              8\n",
      "                     Manαger              8\n",
      "                     Manαgеr              1\n",
      "                     Mαnager              4\n",
      "                     Mαnage𝙧              2\n",
      "                     Mαnagеr              1\n",
      "                     Mαnαger              2\n",
      "                     Μanager             13\n",
      "                     Μanage𝙧              1\n",
      "                     Μanagеr              1\n",
      "senior manager       Senior Manager     825\n",
      "                     Senior Manage𝙧       2\n",
      "                     Senior Managеr       6\n",
      "                     Senior Managе𝙧       1\n",
      "                     Senior Manαger       4\n",
      "                     Senior Mαnager       1\n",
      "                     Senior Mαnαger       3\n",
      "                     Senior Μanαger       1\n",
      "                     Senio𝙧 Manager       1\n",
      "                     Sеnior Manager       3\n",
      "                     Sеnior Managеr       1\n",
      "                     Ѕenior Manager       2\n",
      "                     Ѕenior Manαger       1\n",
      "                     Տenior Manager       2\n",
      "                     Տenior Μanager       1\n",
      "vp                   VP                 117\n",
      "                     VＰ                   2\n",
      "dtype: int64\n"
     ]
    }
   ],
   "source": [
    "train_df[\"Designation_replace\"] = train_df[\"Designation\"].apply(\n",
    "    designation_replace_characters\n",
    ")\n",
    "print(train_df[\"Designation_replace\"].unique())\n",
    "print(train_df.groupby([\"Designation_replace\", \"Designation\"]).size())\n",
    "train_df[\"Designation\"] = train_df[\"Designation_replace\"]\n",
    "train_df = train_df.drop([\"Designation_replace\"], axis=1)"
   ]
  },
  {
   "cell_type": "code",
   "execution_count": 83,
   "id": "20a47839-e42d-418a-8964-a41347639c87",
   "metadata": {},
   "outputs": [
    {
     "name": "stdout",
     "output_type": "stream",
     "text": [
      "['avp' 'senior manager' 'executive' 'manager' 'vp']\n",
      "Designation_replace  Designation   \n",
      "avp                  AVP                305\n",
      "                     AVＰ                  2\n",
      "                     ΑVP                  8\n",
      "                     ΑVＰ                  1\n",
      "                     АVP                  7\n",
      "                     АVＰ                  1\n",
      "executive            Executive         1129\n",
      "                     Executivе            9\n",
      "                     Executiѵe            7\n",
      "                     Execuｔive            1\n",
      "                     Execｕtive            3\n",
      "                     Execｕtivе            1\n",
      "                     Execｕｔive            1\n",
      "                     Exеcutive            9\n",
      "                     Exеcutivе           10\n",
      "                     Exеcuｔive            1\n",
      "                     Exеcｕtivе            1\n",
      "                     E×ecutive            2\n",
      "                     Еxecutive            5\n",
      "                     Еxecｕtive            1\n",
      "manager              Manager           1016\n",
      "                     Manage𝙧              5\n",
      "                     Managеr             10\n",
      "                     Managе𝙧              1\n",
      "                     Manαger              8\n",
      "                     Manαgеr              1\n",
      "                     Mαnager              9\n",
      "                     Mαnagеr              1\n",
      "                     Mαnαger              2\n",
      "                     Mαnαgеr              1\n",
      "                     Μanager              5\n",
      "                     Μαnager              2\n",
      "                     Μαnagеr              1\n",
      "senior manager       Senior Manager     740\n",
      "                     Senior Manage𝙧       3\n",
      "                     Senior Managеr       6\n",
      "                     Senior Managе𝙧       1\n",
      "                     Senior Manαger       2\n",
      "                     Senior Mαnager       1\n",
      "                     Senior Mαnαger       1\n",
      "                     Senior Μanager       2\n",
      "                     Senio𝙧 Manager       5\n",
      "                     Senio𝙧 Manage𝙧       1\n",
      "                     Senio𝙧 Managеr       1\n",
      "                     Senio𝙧 Manαger       1\n",
      "                     Senio𝙧 Mαnage𝙧       1\n",
      "                     Sеnior Manager       4\n",
      "                     Sеnior Managеr       1\n",
      "                     Sеnior Managе𝙧       1\n",
      "                     Sеnio𝙧 Manager       1\n",
      "                     Ѕenior Manager       2\n",
      "                     Ѕenior Μanage𝙧       1\n",
      "                     Տenior Manager       2\n",
      "                     Տenior Μanager       1\n",
      "vp                   VP                 142\n",
      "                     VＰ                   3\n",
      "dtype: int64\n"
     ]
    }
   ],
   "source": [
    "test_df[\"Designation_replace\"] = test_df[\"Designation\"].apply(\n",
    "    designation_replace_characters\n",
    ")\n",
    "print(test_df[\"Designation_replace\"].unique())\n",
    "print(test_df.groupby([\"Designation_replace\", \"Designation\"]).size())\n",
    "test_df[\"Designation\"] = test_df[\"Designation_replace\"]\n",
    "test_df = test_df.drop([\"Designation_replace\"], axis=1)"
   ]
  },
  {
   "cell_type": "markdown",
   "id": "efa1f51c-78c1-438b-bd3a-254aa23c1edc",
   "metadata": {
    "tags": []
   },
   "source": [
    "### MonthlyIncome"
   ]
  },
  {
   "cell_type": "code",
   "execution_count": 84,
   "id": "27cb1df7-2eea-483c-ab54-77ada2021ef0",
   "metadata": {
    "tags": []
   },
   "outputs": [],
   "source": [
    "# 数値に変換する関数\n",
    "def convert_to_num_income(entry):\n",
    "    if pd.isna(entry):\n",
    "        return entry\n",
    "\n",
    "    # 「月収XX.XX万円」の形式を認識し、年収に変換\n",
    "    match = re.match(r\"月収(\\d+\\.?\\d*)万円\", str(entry))\n",
    "    if match:\n",
    "        monthly_income = float(match.group(1)) * 10000  # 万円を円に変換\n",
    "        return float(monthly_income)\n",
    "\n",
    "    # それ以外はそのまま返す（すでに数値のもの）\n",
    "    return float(entry)"
   ]
  },
  {
   "cell_type": "code",
   "execution_count": 85,
   "id": "2ffc9d52-dddc-4ea8-b288-a779af2cfefd",
   "metadata": {},
   "outputs": [],
   "source": [
    "train_df[\"MonthlyIncome\"] = train_df[\"MonthlyIncome\"].apply(convert_to_num_income)"
   ]
  },
  {
   "cell_type": "code",
   "execution_count": 86,
   "id": "ba093f27-218e-478c-bf53-09d31d9bb6a5",
   "metadata": {},
   "outputs": [],
   "source": [
    "test_df[\"MonthlyIncome\"] = test_df[\"MonthlyIncome\"].apply(convert_to_num_income)"
   ]
  },
  {
   "cell_type": "markdown",
   "id": "3fff1667-f2f2-4586-921a-d3e112517fab",
   "metadata": {},
   "source": [
    "### customer_info"
   ]
  },
  {
   "cell_type": "markdown",
   "id": "1a80dd32-ee21-4347-b24e-b9226809062f",
   "metadata": {},
   "source": [
    "#### split"
   ]
  },
  {
   "cell_type": "code",
   "execution_count": 87,
   "id": "5a44598c-79f3-4a2c-ab2a-f4a290d3668a",
   "metadata": {},
   "outputs": [
    {
     "data": {
      "text/plain": [
       "array(['未婚 車未所持 子供なし', '離婚済み,車あり,子供無し', '結婚済み、自動車未所有,子供なし', ...,\n",
       "       '結婚済み,車保有なし,子供有り 1人', '結婚済み/自家用車なし/1児', '独身／車所持／こども1人'],\n",
       "      dtype=object)"
      ]
     },
     "execution_count": 87,
     "metadata": {},
     "output_type": "execute_result"
    }
   ],
   "source": [
    "train_df[\"customer_info\"].unique()"
   ]
  },
  {
   "cell_type": "code",
   "execution_count": 88,
   "id": "12d26f34-323e-40c4-9a28-a410c4c77839",
   "metadata": {},
   "outputs": [],
   "source": [
    "def split_customer_info(info):\n",
    "    info_list = re.split(\"[ ,、/／\\n\\t\\u3000]\", info)\n",
    "    return info_list[0], info_list[1], info_list[2]"
   ]
  },
  {
   "cell_type": "code",
   "execution_count": 89,
   "id": "006d9030-e618-4569-aceb-a100be142965",
   "metadata": {},
   "outputs": [],
   "source": [
    "train_df[[\"customer_marriage\", \"customer_car\", \"customer_child\"]] = [\n",
    "    split_customer_info(info) for info in train_df[\"customer_info\"]\n",
    "]\n",
    "train_df = train_df.drop([\"customer_info\"], axis=1)"
   ]
  },
  {
   "cell_type": "code",
   "execution_count": 90,
   "id": "53a97c4c-9f86-4d52-bca8-640e9d52aa6b",
   "metadata": {},
   "outputs": [],
   "source": [
    "test_df[[\"customer_marriage\", \"customer_car\", \"customer_child\"]] = [\n",
    "    split_customer_info(info) for info in test_df[\"customer_info\"]\n",
    "]\n",
    "test_df = test_df.drop([\"customer_info\"], axis=1)"
   ]
  },
  {
   "cell_type": "code",
   "execution_count": 91,
   "id": "21892a94-11b8-41b3-b15b-cae5c6f74518",
   "metadata": {},
   "outputs": [
    {
     "data": {
      "text/html": [
       "<div>\n",
       "<style scoped>\n",
       "    .dataframe tbody tr th:only-of-type {\n",
       "        vertical-align: middle;\n",
       "    }\n",
       "\n",
       "    .dataframe tbody tr th {\n",
       "        vertical-align: top;\n",
       "    }\n",
       "\n",
       "    .dataframe thead th {\n",
       "        text-align: right;\n",
       "    }\n",
       "</style>\n",
       "<table border=\"1\" class=\"dataframe\">\n",
       "  <thead>\n",
       "    <tr style=\"text-align: right;\">\n",
       "      <th></th>\n",
       "      <th>id</th>\n",
       "      <th>Age</th>\n",
       "      <th>TypeofContact</th>\n",
       "      <th>CityTier</th>\n",
       "      <th>DurationOfPitch</th>\n",
       "      <th>Occupation</th>\n",
       "      <th>Gender</th>\n",
       "      <th>NumberOfPersonVisiting</th>\n",
       "      <th>NumberOfFollowups</th>\n",
       "      <th>ProductPitched</th>\n",
       "      <th>PreferredPropertyStar</th>\n",
       "      <th>NumberOfTrips</th>\n",
       "      <th>Passport</th>\n",
       "      <th>PitchSatisfactionScore</th>\n",
       "      <th>Designation</th>\n",
       "      <th>MonthlyIncome</th>\n",
       "      <th>ProdTaken</th>\n",
       "      <th>customer_marriage</th>\n",
       "      <th>customer_car</th>\n",
       "      <th>customer_child</th>\n",
       "    </tr>\n",
       "  </thead>\n",
       "  <tbody>\n",
       "    <tr>\n",
       "      <th>0</th>\n",
       "      <td>0</td>\n",
       "      <td>50.0</td>\n",
       "      <td>Self Enquiry</td>\n",
       "      <td>2</td>\n",
       "      <td>900.0</td>\n",
       "      <td>Large Business</td>\n",
       "      <td>Male</td>\n",
       "      <td>1.0</td>\n",
       "      <td>4.0</td>\n",
       "      <td>basic</td>\n",
       "      <td>3.0</td>\n",
       "      <td>5.0</td>\n",
       "      <td>1</td>\n",
       "      <td>4</td>\n",
       "      <td>executive</td>\n",
       "      <td>253905.0</td>\n",
       "      <td>1</td>\n",
       "      <td>未婚</td>\n",
       "      <td>車未所持</td>\n",
       "      <td>子供なし</td>\n",
       "    </tr>\n",
       "    <tr>\n",
       "      <th>1</th>\n",
       "      <td>1</td>\n",
       "      <td>56.0</td>\n",
       "      <td>Company Invited</td>\n",
       "      <td>1</td>\n",
       "      <td>840.0</td>\n",
       "      <td>Salaried</td>\n",
       "      <td>Male</td>\n",
       "      <td>1.0</td>\n",
       "      <td>4.0</td>\n",
       "      <td>standard</td>\n",
       "      <td>3.0</td>\n",
       "      <td>2.0</td>\n",
       "      <td>1</td>\n",
       "      <td>4</td>\n",
       "      <td>senior manager</td>\n",
       "      <td>404475.0</td>\n",
       "      <td>0</td>\n",
       "      <td>離婚済み</td>\n",
       "      <td>車あり</td>\n",
       "      <td>子供無し</td>\n",
       "    </tr>\n",
       "    <tr>\n",
       "      <th>2</th>\n",
       "      <td>2</td>\n",
       "      <td>NaN</td>\n",
       "      <td>Self Enquiry</td>\n",
       "      <td>1</td>\n",
       "      <td>600.0</td>\n",
       "      <td>Large Business</td>\n",
       "      <td>Female</td>\n",
       "      <td>1.0</td>\n",
       "      <td>3.0</td>\n",
       "      <td>basic</td>\n",
       "      <td>3.0</td>\n",
       "      <td>4.0</td>\n",
       "      <td>0</td>\n",
       "      <td>4</td>\n",
       "      <td>executive</td>\n",
       "      <td>278145.0</td>\n",
       "      <td>1</td>\n",
       "      <td>結婚済み</td>\n",
       "      <td>自動車未所有</td>\n",
       "      <td>子供なし</td>\n",
       "    </tr>\n",
       "    <tr>\n",
       "      <th>3</th>\n",
       "      <td>3</td>\n",
       "      <td>37.0</td>\n",
       "      <td>Self Enquiry</td>\n",
       "      <td>2</td>\n",
       "      <td>1080.0</td>\n",
       "      <td>Small Business</td>\n",
       "      <td>Female</td>\n",
       "      <td>1.0</td>\n",
       "      <td>3.0</td>\n",
       "      <td>standard</td>\n",
       "      <td>4.0</td>\n",
       "      <td>1.0</td>\n",
       "      <td>0</td>\n",
       "      <td>5</td>\n",
       "      <td>senior manager</td>\n",
       "      <td>326805.0</td>\n",
       "      <td>0</td>\n",
       "      <td>離婚済み</td>\n",
       "      <td>車所持</td>\n",
       "      <td>子供無し</td>\n",
       "    </tr>\n",
       "    <tr>\n",
       "      <th>4</th>\n",
       "      <td>4</td>\n",
       "      <td>48.0</td>\n",
       "      <td>Company Invited</td>\n",
       "      <td>3</td>\n",
       "      <td>1020.0</td>\n",
       "      <td>Small Business</td>\n",
       "      <td>Female</td>\n",
       "      <td>1.0</td>\n",
       "      <td>3.0</td>\n",
       "      <td>basic</td>\n",
       "      <td>4.0</td>\n",
       "      <td>4.0</td>\n",
       "      <td>0</td>\n",
       "      <td>4</td>\n",
       "      <td>executive</td>\n",
       "      <td>258435.0</td>\n",
       "      <td>1</td>\n",
       "      <td>独身</td>\n",
       "      <td>車所持</td>\n",
       "      <td>無子</td>\n",
       "    </tr>\n",
       "  </tbody>\n",
       "</table>\n",
       "</div>"
      ],
      "text/plain": [
       "   id   Age    TypeofContact  CityTier  DurationOfPitch      Occupation  \\\n",
       "0   0  50.0     Self Enquiry         2            900.0  Large Business   \n",
       "1   1  56.0  Company Invited         1            840.0        Salaried   \n",
       "2   2   NaN     Self Enquiry         1            600.0  Large Business   \n",
       "3   3  37.0     Self Enquiry         2           1080.0  Small Business   \n",
       "4   4  48.0  Company Invited         3           1020.0  Small Business   \n",
       "\n",
       "   Gender  NumberOfPersonVisiting  NumberOfFollowups ProductPitched  \\\n",
       "0    Male                     1.0                4.0          basic   \n",
       "1    Male                     1.0                4.0       standard   \n",
       "2  Female                     1.0                3.0          basic   \n",
       "3  Female                     1.0                3.0       standard   \n",
       "4  Female                     1.0                3.0          basic   \n",
       "\n",
       "   PreferredPropertyStar  NumberOfTrips  Passport  PitchSatisfactionScore  \\\n",
       "0                    3.0            5.0         1                       4   \n",
       "1                    3.0            2.0         1                       4   \n",
       "2                    3.0            4.0         0                       4   \n",
       "3                    4.0            1.0         0                       5   \n",
       "4                    4.0            4.0         0                       4   \n",
       "\n",
       "      Designation  MonthlyIncome  ProdTaken customer_marriage customer_car  \\\n",
       "0       executive       253905.0          1                未婚         車未所持   \n",
       "1  senior manager       404475.0          0              離婚済み          車あり   \n",
       "2       executive       278145.0          1              結婚済み       自動車未所有   \n",
       "3  senior manager       326805.0          0              離婚済み          車所持   \n",
       "4       executive       258435.0          1                独身          車所持   \n",
       "\n",
       "  customer_child  \n",
       "0           子供なし  \n",
       "1           子供無し  \n",
       "2           子供なし  \n",
       "3           子供無し  \n",
       "4             無子  "
      ]
     },
     "execution_count": 91,
     "metadata": {},
     "output_type": "execute_result"
    }
   ],
   "source": [
    "train_df.head()"
   ]
  },
  {
   "cell_type": "markdown",
   "id": "3fbbcf29-aedb-44e7-a27c-5ec9eeb72c85",
   "metadata": {},
   "source": [
    "#### customer_marriage"
   ]
  },
  {
   "cell_type": "code",
   "execution_count": 92,
   "id": "64c23460-9291-4a2a-aa3a-b6dbc2ace52e",
   "metadata": {},
   "outputs": [
    {
     "data": {
      "text/plain": [
       "array(['未婚', '離婚済み', '結婚済み', '独身'], dtype=object)"
      ]
     },
     "execution_count": 92,
     "metadata": {},
     "output_type": "execute_result"
    }
   ],
   "source": [
    "train_df[\"customer_marriage\"].unique()"
   ]
  },
  {
   "cell_type": "code",
   "execution_count": 93,
   "id": "cbe49394-beb6-4e07-b9f3-2fc3d9807ad3",
   "metadata": {},
   "outputs": [
    {
     "data": {
      "text/plain": [
       "array(['結婚済み', '離婚済み', '独身', '未婚'], dtype=object)"
      ]
     },
     "execution_count": 93,
     "metadata": {},
     "output_type": "execute_result"
    }
   ],
   "source": [
    "test_df[\"customer_marriage\"].unique()"
   ]
  },
  {
   "cell_type": "markdown",
   "id": "c45a43aa-da15-4024-9bd5-7ab6cbd89ced",
   "metadata": {},
   "source": [
    "#### customer_car"
   ]
  },
  {
   "cell_type": "code",
   "execution_count": 94,
   "id": "e6a0324d-68cf-49a7-9913-76d6c9255224",
   "metadata": {},
   "outputs": [
    {
     "data": {
      "text/plain": [
       "array(['車未所持', '車あり', '自動車未所有', '車所持', '自家用車あり', '車保有', '車保有なし', '乗用車所持',\n",
       "       '乗用車なし', '自動車所有', '自家用車なし', '車なし'], dtype=object)"
      ]
     },
     "execution_count": 94,
     "metadata": {},
     "output_type": "execute_result"
    }
   ],
   "source": [
    "train_df[\"customer_car\"].unique()"
   ]
  },
  {
   "cell_type": "code",
   "execution_count": 95,
   "id": "b8ca49cb-2488-4adb-b013-2ac11d801c48",
   "metadata": {},
   "outputs": [],
   "source": [
    "# 置換マッピングを作成\n",
    "car_replace_map = {\n",
    "    \"車未所持\": \"自動車未所有\",\n",
    "    \"車保有なし\": \"自動車未所有\",\n",
    "    \"乗用車なし\": \"自動車未所有\",\n",
    "    \"自家用車なし\": \"自動車未所有\",\n",
    "    \"車なし\": \"自動車未所有\",\n",
    "    \"車あり\": \"自動車所有\",\n",
    "    \"車所持\": \"自動車所有\",\n",
    "    \"自家用車あり\": \"自動車所有\",\n",
    "    \"車保有\": \"自動車所有\",\n",
    "    \"乗用車所持\": \"自動車所有\",\n",
    "}"
   ]
  },
  {
   "cell_type": "code",
   "execution_count": 96,
   "id": "06c8d801-6625-4d92-924a-fd844f58bda4",
   "metadata": {},
   "outputs": [],
   "source": [
    "# 自動車保有有無を置換する関数\n",
    "def customer_car_replace_characters(car_hold):\n",
    "    return car_replace_map.get(car_hold, car_hold)"
   ]
  },
  {
   "cell_type": "code",
   "execution_count": 97,
   "id": "5904bc4d-7b2d-4307-974d-b2c30f068e68",
   "metadata": {},
   "outputs": [
    {
     "name": "stdout",
     "output_type": "stream",
     "text": [
      "['自動車未所有' '自動車所有']\n",
      "customer_car_replace  customer_car\n",
      "自動車所有                 乗用車所持           107\n",
      "                      自動車所有           392\n",
      "                      自家用車あり          188\n",
      "                      車あり              94\n",
      "                      車保有             104\n",
      "                      車所持             819\n",
      "自動車未所有                乗用車なし           109\n",
      "                      自動車未所有          437\n",
      "                      自家用車なし          207\n",
      "                      車なし             104\n",
      "                      車保有なし            98\n",
      "                      車未所持            830\n",
      "dtype: int64\n"
     ]
    }
   ],
   "source": [
    "train_df[\"customer_car_replace\"] = train_df[\"customer_car\"].apply(\n",
    "    customer_car_replace_characters\n",
    ")\n",
    "print(train_df[\"customer_car_replace\"].unique())\n",
    "print(train_df.groupby([\"customer_car_replace\", \"customer_car\"]).size())\n",
    "train_df[\"customer_car\"] = train_df[\"customer_car_replace\"]\n",
    "train_df = train_df.drop([\"customer_car_replace\"], axis=1)"
   ]
  },
  {
   "cell_type": "code",
   "execution_count": 98,
   "id": "55faa078-3025-4ae8-a88f-cca179fd5f80",
   "metadata": {},
   "outputs": [
    {
     "name": "stdout",
     "output_type": "stream",
     "text": [
      "['自動車所有' '自動車未所有']\n",
      "customer_car_replace  customer_car\n",
      "自動車所有                 乗用車所持           107\n",
      "                      自動車所有           397\n",
      "                      自家用車あり          217\n",
      "                      車あり              84\n",
      "                      車保有              96\n",
      "                      車所持             754\n",
      "自動車未所有                乗用車なし           130\n",
      "                      自動車未所有          450\n",
      "                      自家用車なし          205\n",
      "                      車なし             101\n",
      "                      車保有なし           104\n",
      "                      車未所持            844\n",
      "dtype: int64\n"
     ]
    }
   ],
   "source": [
    "test_df[\"customer_car_replace\"] = test_df[\"customer_car\"].apply(\n",
    "    customer_car_replace_characters\n",
    ")\n",
    "print(test_df[\"customer_car_replace\"].unique())\n",
    "print(test_df.groupby([\"customer_car_replace\", \"customer_car\"]).size())\n",
    "test_df[\"customer_car\"] = test_df[\"customer_car_replace\"]\n",
    "test_df = test_df.drop([\"customer_car_replace\"], axis=1)"
   ]
  },
  {
   "cell_type": "markdown",
   "id": "b7ecbaed-faa2-479c-9012-57fed819d121",
   "metadata": {},
   "source": [
    "#### customer_child"
   ]
  },
  {
   "cell_type": "code",
   "execution_count": 99,
   "id": "52939b61-4483-4dde-8a9a-65e7a66172b2",
   "metadata": {},
   "outputs": [
    {
     "data": {
      "text/plain": [
       "array(['子供なし', '子供無し', '無子', '子供ゼロ', '非育児家庭', '子育て状況不明', '子の数不詳',\n",
       "       '子供の数不明', 'こども1人', '1児', '子供1人', '子供有り(1人)', 'わからない', '子供有り',\n",
       "       'こども2人', '子供2人', '子供有り(2人)', 'こども3人', '子供3人', '不明', '2児', '3児',\n",
       "       '子供有り(3人)'], dtype=object)"
      ]
     },
     "execution_count": 99,
     "metadata": {},
     "output_type": "execute_result"
    }
   ],
   "source": [
    "train_df[\"customer_child\"].unique()"
   ]
  },
  {
   "cell_type": "code",
   "execution_count": 100,
   "id": "d806ae78-ad65-43c8-9c86-3dcf41cbb9d4",
   "metadata": {},
   "outputs": [],
   "source": [
    "child_replace_map = {\n",
    "    \"子供なし\": \"子供なし\",\n",
    "    \"子供無し\": \"子供なし\",\n",
    "    \"無子\": \"子供なし\",\n",
    "    \"子供ゼロ\": \"子供なし\",\n",
    "    \"非育児家庭\": \"子供なし\",\n",
    "    \"子育て状況不明\": \"不明\",\n",
    "    \"子の数不詳\": \"不明\",\n",
    "    \"子供の数不明\": \"不明\",\n",
    "    \"わからない\": \"不明\",\n",
    "    \"不明\": \"不明\",\n",
    "    \"こども1人\": \"子供1人\",\n",
    "    \"1児\": \"子供1人\",\n",
    "    \"子供1人\": \"子供1人\",\n",
    "    \"子供有り(1人)\": \"子供1人\",\n",
    "    \"子供有り\": \"不明\",  # 子供有りだけでは人数が不明\n",
    "    \"こども2人\": \"子供2人\",\n",
    "    \"2児\": \"子供2人\",\n",
    "    \"子供2人\": \"子供2人\",\n",
    "    \"子供有り(2人)\": \"子供2人\",\n",
    "    \"こども3人\": \"子供3人\",\n",
    "    \"3児\": \"子供3人\",\n",
    "    \"子供3人\": \"子供3人\",\n",
    "    \"子供有り(3人)\": \"子供3人\",\n",
    "}\n"
   ]
  },
  {
   "cell_type": "code",
   "execution_count": 101,
   "id": "a1df13d9-584d-4b99-b8c4-55149c6c2cb1",
   "metadata": {},
   "outputs": [],
   "source": [
    "# 子供の有無・数を置換する関数\n",
    "def replace_child_status(child_status):\n",
    "    return child_replace_map.get(child_status, child_status)"
   ]
  },
  {
   "cell_type": "code",
   "execution_count": 102,
   "id": "a0476889-b3d1-4818-85b6-96ab6d0d9314",
   "metadata": {},
   "outputs": [
    {
     "name": "stdout",
     "output_type": "stream",
     "text": [
      "['子供なし' '不明' '子供1人' '子供2人' '子供3人']\n",
      "customer_child_replace  customer_child\n",
      "不明                      わからない               5\n",
      "                        不明                 10\n",
      "                        子の数不詳               4\n",
      "                        子供の数不明             13\n",
      "                        子供有り              160\n",
      "                        子育て状況不明             5\n",
      "子供1人                    1児                113\n",
      "                        こども1人             410\n",
      "                        子供1人              859\n",
      "                        子供有り(1人)           94\n",
      "子供2人                    2児                 51\n",
      "                        こども2人             229\n",
      "                        子供2人              434\n",
      "                        子供有り(2人)           49\n",
      "子供3人                    3児                 10\n",
      "                        こども3人              20\n",
      "                        子供3人               35\n",
      "                        子供有り(3人)            3\n",
      "子供なし                    子供なし              539\n",
      "                        子供ゼロ               75\n",
      "                        子供無し              252\n",
      "                        無子                 57\n",
      "                        非育児家庭              62\n",
      "dtype: int64\n"
     ]
    }
   ],
   "source": [
    "train_df[\"customer_child_replace\"] = train_df[\"customer_child\"].apply(\n",
    "    replace_child_status\n",
    ")\n",
    "print(train_df[\"customer_child_replace\"].unique())\n",
    "print(train_df.groupby([\"customer_child_replace\", \"customer_child\"]).size())\n",
    "train_df[\"customer_child\"] = train_df[\"customer_child_replace\"]\n",
    "train_df = train_df.drop([\"customer_child_replace\"], axis=1)"
   ]
  },
  {
   "cell_type": "code",
   "execution_count": 103,
   "id": "1d05298b-beaf-4b77-b1c7-6604bfd1d91d",
   "metadata": {},
   "outputs": [
    {
     "name": "stdout",
     "output_type": "stream",
     "text": [
      "['子供なし' '不明' '子供1人' '子供2人' '子供3人']\n",
      "customer_child_replace  customer_child\n",
      "不明                      不明                  7\n",
      "                        子の数不詳               1\n",
      "                        子供の数不明             26\n",
      "                        子供有り              161\n",
      "                        子育て状況不明             3\n",
      "子供1人                    1児                107\n",
      "                        こども1人             422\n",
      "                        子供1人              840\n",
      "                        子供有り(1人)          100\n",
      "子供2人                    2児                 57\n",
      "                        こども2人             227\n",
      "                        子供2人              487\n",
      "                        子供有り(2人)           66\n",
      "子供3人                    3児                  4\n",
      "                        こども3人              18\n",
      "                        子供3人               35\n",
      "                        子供有り(3人)            4\n",
      "子供なし                    子供なし              499\n",
      "                        子供ゼロ               50\n",
      "                        子供無し              255\n",
      "                        無子                 64\n",
      "                        非育児家庭              56\n",
      "dtype: int64\n"
     ]
    }
   ],
   "source": [
    "test_df[\"customer_child_replace\"] = test_df[\"customer_child\"].apply(\n",
    "    replace_child_status\n",
    ")\n",
    "print(test_df[\"customer_child_replace\"].unique())\n",
    "print(test_df.groupby([\"customer_child_replace\", \"customer_child\"]).size())\n",
    "test_df[\"customer_child\"] = test_df[\"customer_child_replace\"]\n",
    "test_df = test_df.drop([\"customer_child_replace\"], axis=1)"
   ]
  },
  {
   "cell_type": "markdown",
   "id": "f5f70423-9406-42f9-9127-af774ca782eb",
   "metadata": {},
   "source": [
    "## 出力"
   ]
  },
  {
   "cell_type": "code",
   "execution_count": 104,
   "id": "a098bbf4-15f1-44a3-a51a-82baef2fce2c",
   "metadata": {},
   "outputs": [],
   "source": [
    "train_df.to_csv(path_input + \"cleaned_train.csv\", header=True, index=None)\n",
    "test_df.to_csv(path_input + \"cleaned_test.csv\", header=True, index=None)"
   ]
  },
  {
   "cell_type": "code",
   "execution_count": null,
   "id": "c9b5ce00",
   "metadata": {},
   "outputs": [],
   "source": []
  }
 ],
 "metadata": {
  "kernelspec": {
   "display_name": "Python 3 (ipykernel)",
   "language": "python",
   "name": "python3"
  },
  "language_info": {
   "codemirror_mode": {
    "name": "ipython",
    "version": 3
   },
   "file_extension": ".py",
   "mimetype": "text/x-python",
   "name": "python",
   "nbconvert_exporter": "python",
   "pygments_lexer": "ipython3",
   "version": "3.10.9"
  }
 },
 "nbformat": 4,
 "nbformat_minor": 5
}
