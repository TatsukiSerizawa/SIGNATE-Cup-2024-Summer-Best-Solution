{
 "cells": [
  {
   "cell_type": "markdown",
   "metadata": {},
   "source": [
    "# Make ctgr\n",
    "\n",
    "【内容】\n",
    "- data_cleaningで精緻化したデータを使用\n",
    "- 数値データをカテゴリ化"
   ]
  },
  {
   "cell_type": "code",
   "execution_count": 1,
   "metadata": {
    "vscode": {
     "languageId": "plaintext"
    }
   },
   "outputs": [],
   "source": [
    "import pandas as pd\n",
    "import numpy as np\n",
    "from catboost import CatBoostClassifier\n",
    "from sklearn.model_selection import train_test_split, StratifiedKFold"
   ]
  },
  {
   "cell_type": "markdown",
   "metadata": {},
   "source": [
    "## Setting"
   ]
  },
  {
   "cell_type": "code",
   "execution_count": 2,
   "metadata": {},
   "outputs": [],
   "source": [
    "path_train = \"../data/input/cleaned_train.csv\"\n",
    "path_test = \"../data/input/cleaned_test.csv\"\n",
    "path_input = \"../data/input/\""
   ]
  },
  {
   "cell_type": "markdown",
   "metadata": {},
   "source": [
    "## Data read"
   ]
  },
  {
   "cell_type": "code",
   "execution_count": 3,
   "metadata": {
    "vscode": {
     "languageId": "plaintext"
    }
   },
   "outputs": [],
   "source": [
    "train_df = pd.read_csv(path_train)\n",
    "test_df = pd.read_csv(path_test)"
   ]
  },
  {
   "cell_type": "code",
   "execution_count": 4,
   "metadata": {},
   "outputs": [
    {
     "data": {
      "text/html": [
       "<div>\n",
       "<style scoped>\n",
       "    .dataframe tbody tr th:only-of-type {\n",
       "        vertical-align: middle;\n",
       "    }\n",
       "\n",
       "    .dataframe tbody tr th {\n",
       "        vertical-align: top;\n",
       "    }\n",
       "\n",
       "    .dataframe thead th {\n",
       "        text-align: right;\n",
       "    }\n",
       "</style>\n",
       "<table border=\"1\" class=\"dataframe\">\n",
       "  <thead>\n",
       "    <tr style=\"text-align: right;\">\n",
       "      <th></th>\n",
       "      <th>id</th>\n",
       "      <th>Age</th>\n",
       "      <th>TypeofContact</th>\n",
       "      <th>CityTier</th>\n",
       "      <th>DurationOfPitch</th>\n",
       "      <th>Occupation</th>\n",
       "      <th>Gender</th>\n",
       "      <th>NumberOfPersonVisiting</th>\n",
       "      <th>NumberOfFollowups</th>\n",
       "      <th>ProductPitched</th>\n",
       "      <th>PreferredPropertyStar</th>\n",
       "      <th>NumberOfTrips</th>\n",
       "      <th>Passport</th>\n",
       "      <th>PitchSatisfactionScore</th>\n",
       "      <th>Designation</th>\n",
       "      <th>MonthlyIncome</th>\n",
       "      <th>ProdTaken</th>\n",
       "      <th>customer_marriage</th>\n",
       "      <th>customer_car</th>\n",
       "      <th>customer_child</th>\n",
       "    </tr>\n",
       "  </thead>\n",
       "  <tbody>\n",
       "    <tr>\n",
       "      <th>0</th>\n",
       "      <td>0</td>\n",
       "      <td>50.0</td>\n",
       "      <td>Self Enquiry</td>\n",
       "      <td>2</td>\n",
       "      <td>900.0</td>\n",
       "      <td>Large Business</td>\n",
       "      <td>Male</td>\n",
       "      <td>1.0</td>\n",
       "      <td>4.0</td>\n",
       "      <td>basic</td>\n",
       "      <td>3.0</td>\n",
       "      <td>5.0</td>\n",
       "      <td>1</td>\n",
       "      <td>4</td>\n",
       "      <td>executive</td>\n",
       "      <td>253905.0</td>\n",
       "      <td>1</td>\n",
       "      <td>未婚</td>\n",
       "      <td>自動車未所有</td>\n",
       "      <td>子供なし</td>\n",
       "    </tr>\n",
       "    <tr>\n",
       "      <th>1</th>\n",
       "      <td>1</td>\n",
       "      <td>56.0</td>\n",
       "      <td>Company Invited</td>\n",
       "      <td>1</td>\n",
       "      <td>840.0</td>\n",
       "      <td>Salaried</td>\n",
       "      <td>Male</td>\n",
       "      <td>1.0</td>\n",
       "      <td>4.0</td>\n",
       "      <td>standard</td>\n",
       "      <td>3.0</td>\n",
       "      <td>2.0</td>\n",
       "      <td>1</td>\n",
       "      <td>4</td>\n",
       "      <td>senior manager</td>\n",
       "      <td>404475.0</td>\n",
       "      <td>0</td>\n",
       "      <td>離婚済み</td>\n",
       "      <td>自動車所有</td>\n",
       "      <td>子供なし</td>\n",
       "    </tr>\n",
       "    <tr>\n",
       "      <th>2</th>\n",
       "      <td>2</td>\n",
       "      <td>NaN</td>\n",
       "      <td>Self Enquiry</td>\n",
       "      <td>1</td>\n",
       "      <td>600.0</td>\n",
       "      <td>Large Business</td>\n",
       "      <td>Female</td>\n",
       "      <td>1.0</td>\n",
       "      <td>3.0</td>\n",
       "      <td>basic</td>\n",
       "      <td>3.0</td>\n",
       "      <td>4.0</td>\n",
       "      <td>0</td>\n",
       "      <td>4</td>\n",
       "      <td>executive</td>\n",
       "      <td>278145.0</td>\n",
       "      <td>1</td>\n",
       "      <td>結婚済み</td>\n",
       "      <td>自動車未所有</td>\n",
       "      <td>子供なし</td>\n",
       "    </tr>\n",
       "    <tr>\n",
       "      <th>3</th>\n",
       "      <td>3</td>\n",
       "      <td>37.0</td>\n",
       "      <td>Self Enquiry</td>\n",
       "      <td>2</td>\n",
       "      <td>1080.0</td>\n",
       "      <td>Small Business</td>\n",
       "      <td>Female</td>\n",
       "      <td>1.0</td>\n",
       "      <td>3.0</td>\n",
       "      <td>standard</td>\n",
       "      <td>4.0</td>\n",
       "      <td>1.0</td>\n",
       "      <td>0</td>\n",
       "      <td>5</td>\n",
       "      <td>senior manager</td>\n",
       "      <td>326805.0</td>\n",
       "      <td>0</td>\n",
       "      <td>離婚済み</td>\n",
       "      <td>自動車所有</td>\n",
       "      <td>子供なし</td>\n",
       "    </tr>\n",
       "    <tr>\n",
       "      <th>4</th>\n",
       "      <td>4</td>\n",
       "      <td>48.0</td>\n",
       "      <td>Company Invited</td>\n",
       "      <td>3</td>\n",
       "      <td>1020.0</td>\n",
       "      <td>Small Business</td>\n",
       "      <td>Female</td>\n",
       "      <td>1.0</td>\n",
       "      <td>3.0</td>\n",
       "      <td>basic</td>\n",
       "      <td>4.0</td>\n",
       "      <td>4.0</td>\n",
       "      <td>0</td>\n",
       "      <td>4</td>\n",
       "      <td>executive</td>\n",
       "      <td>258435.0</td>\n",
       "      <td>1</td>\n",
       "      <td>独身</td>\n",
       "      <td>自動車所有</td>\n",
       "      <td>子供なし</td>\n",
       "    </tr>\n",
       "  </tbody>\n",
       "</table>\n",
       "</div>"
      ],
      "text/plain": [
       "   id   Age    TypeofContact  CityTier  DurationOfPitch      Occupation  \\\n",
       "0   0  50.0     Self Enquiry         2            900.0  Large Business   \n",
       "1   1  56.0  Company Invited         1            840.0        Salaried   \n",
       "2   2   NaN     Self Enquiry         1            600.0  Large Business   \n",
       "3   3  37.0     Self Enquiry         2           1080.0  Small Business   \n",
       "4   4  48.0  Company Invited         3           1020.0  Small Business   \n",
       "\n",
       "   Gender  NumberOfPersonVisiting  NumberOfFollowups ProductPitched  \\\n",
       "0    Male                     1.0                4.0          basic   \n",
       "1    Male                     1.0                4.0       standard   \n",
       "2  Female                     1.0                3.0          basic   \n",
       "3  Female                     1.0                3.0       standard   \n",
       "4  Female                     1.0                3.0          basic   \n",
       "\n",
       "   PreferredPropertyStar  NumberOfTrips  Passport  PitchSatisfactionScore  \\\n",
       "0                    3.0            5.0         1                       4   \n",
       "1                    3.0            2.0         1                       4   \n",
       "2                    3.0            4.0         0                       4   \n",
       "3                    4.0            1.0         0                       5   \n",
       "4                    4.0            4.0         0                       4   \n",
       "\n",
       "      Designation  MonthlyIncome  ProdTaken customer_marriage customer_car  \\\n",
       "0       executive       253905.0          1                未婚       自動車未所有   \n",
       "1  senior manager       404475.0          0              離婚済み        自動車所有   \n",
       "2       executive       278145.0          1              結婚済み       自動車未所有   \n",
       "3  senior manager       326805.0          0              離婚済み        自動車所有   \n",
       "4       executive       258435.0          1                独身        自動車所有   \n",
       "\n",
       "  customer_child  \n",
       "0           子供なし  \n",
       "1           子供なし  \n",
       "2           子供なし  \n",
       "3           子供なし  \n",
       "4           子供なし  "
      ]
     },
     "execution_count": 4,
     "metadata": {},
     "output_type": "execute_result"
    }
   ],
   "source": [
    "train_df.head()"
   ]
  },
  {
   "cell_type": "markdown",
   "metadata": {},
   "source": [
    "## データ確認"
   ]
  },
  {
   "cell_type": "code",
   "execution_count": 5,
   "metadata": {},
   "outputs": [
    {
     "name": "stdout",
     "output_type": "stream",
     "text": [
      "<class 'pandas.core.frame.DataFrame'>\n",
      "RangeIndex: 3489 entries, 0 to 3488\n",
      "Data columns (total 20 columns):\n",
      " #   Column                  Non-Null Count  Dtype  \n",
      "---  ------                  --------------  -----  \n",
      " 0   id                      3489 non-null   int64  \n",
      " 1   Age                     3389 non-null   float64\n",
      " 2   TypeofContact           3483 non-null   object \n",
      " 3   CityTier                3489 non-null   int64  \n",
      " 4   DurationOfPitch         3368 non-null   float64\n",
      " 5   Occupation              3489 non-null   object \n",
      " 6   Gender                  3489 non-null   object \n",
      " 7   NumberOfPersonVisiting  3489 non-null   float64\n",
      " 8   NumberOfFollowups       3456 non-null   float64\n",
      " 9   ProductPitched          3489 non-null   object \n",
      " 10  PreferredPropertyStar   3489 non-null   float64\n",
      " 11  NumberOfTrips           3467 non-null   float64\n",
      " 12  Passport                3489 non-null   int64  \n",
      " 13  PitchSatisfactionScore  3489 non-null   int64  \n",
      " 14  Designation             3489 non-null   object \n",
      " 15  MonthlyIncome           3433 non-null   float64\n",
      " 16  ProdTaken               3489 non-null   int64  \n",
      " 17  customer_marriage       3489 non-null   object \n",
      " 18  customer_car            3489 non-null   object \n",
      " 19  customer_child          3489 non-null   object \n",
      "dtypes: float64(7), int64(5), object(8)\n",
      "memory usage: 545.3+ KB\n"
     ]
    }
   ],
   "source": [
    "train_df.info()"
   ]
  },
  {
   "cell_type": "code",
   "execution_count": 6,
   "metadata": {},
   "outputs": [
    {
     "name": "stdout",
     "output_type": "stream",
     "text": [
      "<class 'pandas.core.frame.DataFrame'>\n",
      "RangeIndex: 3489 entries, 0 to 3488\n",
      "Data columns (total 19 columns):\n",
      " #   Column                  Non-Null Count  Dtype  \n",
      "---  ------                  --------------  -----  \n",
      " 0   id                      3489 non-null   int64  \n",
      " 1   Age                     3396 non-null   float64\n",
      " 2   TypeofContact           3477 non-null   object \n",
      " 3   CityTier                3489 non-null   int64  \n",
      " 4   DurationOfPitch         3358 non-null   float64\n",
      " 5   Occupation              3489 non-null   object \n",
      " 6   Gender                  3489 non-null   object \n",
      " 7   NumberOfPersonVisiting  3489 non-null   float64\n",
      " 8   NumberOfFollowups       3465 non-null   float64\n",
      " 9   ProductPitched          3489 non-null   object \n",
      " 10  PreferredPropertyStar   3489 non-null   float64\n",
      " 11  NumberOfTrips           3447 non-null   float64\n",
      " 12  Passport                3489 non-null   int64  \n",
      " 13  PitchSatisfactionScore  3489 non-null   int64  \n",
      " 14  Designation             3489 non-null   object \n",
      " 15  MonthlyIncome           3440 non-null   float64\n",
      " 16  customer_marriage       3489 non-null   object \n",
      " 17  customer_car            3489 non-null   object \n",
      " 18  customer_child          3489 non-null   object \n",
      "dtypes: float64(7), int64(4), object(8)\n",
      "memory usage: 518.0+ KB\n"
     ]
    }
   ],
   "source": [
    "test_df.info()"
   ]
  },
  {
   "cell_type": "code",
   "execution_count": 7,
   "metadata": {
    "tags": []
   },
   "outputs": [
    {
     "name": "stdout",
     "output_type": "stream",
     "text": [
      "id\n",
      "0       1\n",
      "1       1\n",
      "2       1\n",
      "3       1\n",
      "4       1\n",
      "       ..\n",
      "3484    1\n",
      "3485    1\n",
      "3486    1\n",
      "3487    1\n",
      "3488    1\n",
      "Length: 3489, dtype: int64\n",
      "\n",
      "Age\n",
      "18.0      6\n",
      "19.0     12\n",
      "20.0     28\n",
      "21.0     34\n",
      "22.0     43\n",
      "23.0     38\n",
      "24.0     38\n",
      "25.0     99\n",
      "26.0     67\n",
      "27.0     56\n",
      "28.0     74\n",
      "29.0     74\n",
      "30.0     87\n",
      "31.0    109\n",
      "32.0    108\n",
      "33.0    127\n",
      "34.0    112\n",
      "35.0    232\n",
      "36.0    134\n",
      "37.0    118\n",
      "38.0    107\n",
      "39.0    105\n",
      "40.0     95\n",
      "41.0     94\n",
      "42.0     96\n",
      "43.0     91\n",
      "44.0     62\n",
      "45.0    193\n",
      "46.0     75\n",
      "47.0     69\n",
      "48.0     68\n",
      "49.0     68\n",
      "50.0     76\n",
      "51.0     83\n",
      "52.0     83\n",
      "53.0     71\n",
      "54.0     61\n",
      "55.0    128\n",
      "56.0     49\n",
      "57.0     36\n",
      "58.0     33\n",
      "59.0     25\n",
      "60.0     16\n",
      "61.0      9\n",
      "dtype: int64\n",
      "\n",
      "TypeofContact\n",
      "Company Invited    1289\n",
      "Self Enquiry       2194\n",
      "dtype: int64\n",
      "\n",
      "CityTier\n",
      "1    1475\n",
      "2    1596\n",
      "3     418\n",
      "dtype: int64\n",
      "\n",
      "DurationOfPitch\n",
      "240.0       2\n",
      "300.0      18\n",
      "360.0      80\n",
      "420.0     239\n",
      "480.0     338\n",
      "540.0     327\n",
      "600.0     231\n",
      "660.0     160\n",
      "720.0     158\n",
      "780.0     203\n",
      "840.0     266\n",
      "900.0     284\n",
      "960.0     259\n",
      "1020.0    136\n",
      "1080.0     74\n",
      "1140.0     19\n",
      "1200.0     36\n",
      "1260.0     31\n",
      "1320.0     45\n",
      "1380.0     51\n",
      "1440.0     40\n",
      "1500.0     38\n",
      "1560.0     27\n",
      "1620.0     35\n",
      "1680.0     29\n",
      "1740.0     20\n",
      "1800.0     31\n",
      "1860.0     43\n",
      "1920.0     53\n",
      "1980.0     34\n",
      "2040.0     29\n",
      "2100.0     25\n",
      "2160.0      7\n",
      "dtype: int64\n",
      "\n",
      "Occupation\n",
      "Large Business     361\n",
      "Salaried          1401\n",
      "Small Business    1727\n",
      "dtype: int64\n",
      "\n",
      "Gender\n",
      "Female    1425\n",
      "Male      2064\n",
      "dtype: int64\n",
      "\n",
      "NumberOfPersonVisiting\n",
      "1.0     336\n",
      "2.0    1608\n",
      "3.0    1377\n",
      "4.0     168\n",
      "dtype: int64\n",
      "\n",
      "NumberOfFollowups\n",
      "1.0      78\n",
      "2.0     108\n",
      "3.0    1296\n",
      "4.0    1411\n",
      "5.0     524\n",
      "6.0      39\n",
      "dtype: int64\n",
      "\n",
      "ProductPitched\n",
      "basic           1157\n",
      "deluxe          1045\n",
      "king             126\n",
      "standard         841\n",
      "super deluxe     320\n",
      "dtype: int64\n",
      "\n",
      "PreferredPropertyStar\n",
      "3.0    2147\n",
      "4.0    1145\n",
      "5.0     197\n",
      "dtype: int64\n",
      "\n",
      "NumberOfTrips\n",
      "1.0     409\n",
      "2.0    1164\n",
      "3.0     820\n",
      "4.0     163\n",
      "5.0     515\n",
      "6.0     130\n",
      "7.0     256\n",
      "8.0      10\n",
      "dtype: int64\n",
      "\n",
      "Passport\n",
      "0    3131\n",
      "1     358\n",
      "dtype: int64\n",
      "\n",
      "PitchSatisfactionScore\n",
      "1     686\n",
      "2    1269\n",
      "3     692\n",
      "4     739\n",
      "5     103\n",
      "dtype: int64\n",
      "\n",
      "Designation\n",
      "avp                311\n",
      "executive         1150\n",
      "manager           1055\n",
      "senior manager     854\n",
      "vp                 119\n",
      "dtype: int64\n",
      "\n",
      "MonthlyIncome\n",
      "200000.0    1\n",
      "238890.0    1\n",
      "240000.0    2\n",
      "241905.0    1\n",
      "242280.0    2\n",
      "           ..\n",
      "575355.0    1\n",
      "576810.0    1\n",
      "578490.0    1\n",
      "578670.0    1\n",
      "600000.0    2\n",
      "Length: 2541, dtype: int64\n",
      "\n",
      "ProdTaken\n",
      "0    2992\n",
      "1     497\n",
      "dtype: int64\n",
      "\n",
      "customer_marriage\n",
      "未婚       581\n",
      "独身       646\n",
      "結婚済み    1384\n",
      "離婚済み     878\n",
      "dtype: int64\n",
      "\n",
      "customer_car\n",
      "自動車所有     1704\n",
      "自動車未所有    1785\n",
      "dtype: int64\n",
      "\n",
      "customer_child\n",
      "不明       197\n",
      "子供1人    1476\n",
      "子供2人     763\n",
      "子供3人      68\n",
      "子供なし     985\n",
      "dtype: int64\n",
      "\n"
     ]
    }
   ],
   "source": [
    "for feature in train_df.columns:\n",
    "    print(train_df.groupby(feature).size())\n",
    "    print(\"\")"
   ]
  },
  {
   "cell_type": "markdown",
   "metadata": {},
   "source": [
    "## 数値データのカテゴリ化"
   ]
  },
  {
   "cell_type": "markdown",
   "metadata": {},
   "source": [
    "### Age"
   ]
  },
  {
   "cell_type": "code",
   "execution_count": 8,
   "metadata": {},
   "outputs": [],
   "source": [
    "def age_to_age_cls(age):\n",
    "    if pd.isna(age):\n",
    "        return \"不明\"\n",
    "    elif age <= 20:\n",
    "        return \"20歳以下\"\n",
    "    elif (age > 20) & (age <= 25):\n",
    "        return (\"21~25歳\")\n",
    "    elif (age > 25) & (age <= 30):\n",
    "        return (\"26~30歳\")\n",
    "    elif (age > 30) & (age <= 35):\n",
    "        return (\"31~35歳\")\n",
    "    elif (age > 35) & (age <= 40):\n",
    "        return (\"36~40歳\")\n",
    "    elif (age > 40) & (age <= 45):\n",
    "        return (\"41~45歳\")\n",
    "    elif (age > 45) & (age <= 50):\n",
    "        return (\"46~50歳\")\n",
    "    elif (age > 50) & (age <= 55):\n",
    "        return (\"51~55歳\")\n",
    "    elif age > 55:\n",
    "        return \"56歳以上\""
   ]
  },
  {
   "cell_type": "code",
   "execution_count": 9,
   "metadata": {},
   "outputs": [],
   "source": [
    "train_df[\"age_cls\"] = train_df[\"Age\"].apply(age_to_age_cls)\n",
    "test_df[\"age_cls\"] = test_df[\"Age\"].apply(age_to_age_cls)"
   ]
  },
  {
   "cell_type": "code",
   "execution_count": 10,
   "metadata": {},
   "outputs": [
    {
     "data": {
      "text/plain": [
       "age_cls\n",
       "20歳以下      46\n",
       "21~25歳    252\n",
       "26~30歳    358\n",
       "31~35歳    688\n",
       "36~40歳    559\n",
       "41~45歳    536\n",
       "46~50歳    356\n",
       "51~55歳    426\n",
       "56歳以上     168\n",
       "不明        100\n",
       "dtype: int64"
      ]
     },
     "execution_count": 10,
     "metadata": {},
     "output_type": "execute_result"
    }
   ],
   "source": [
    "train_df.groupby([\"age_cls\"]).size()"
   ]
  },
  {
   "cell_type": "markdown",
   "metadata": {},
   "source": [
    "### DurationOfPitch"
   ]
  },
  {
   "cell_type": "code",
   "execution_count": 11,
   "metadata": {},
   "outputs": [],
   "source": [
    "def pitch_time_to_ctgr(time):\n",
    "    if pd.isna(time):\n",
    "        return \"不明\"\n",
    "    elif time <= 400:\n",
    "        return \"400s以下\"\n",
    "    elif (time > 400) & (time <= 500):\n",
    "        return \"401~500s\"\n",
    "    elif (time > 500) & (time <= 600):\n",
    "        return \"501~600s\"\n",
    "    elif (time > 600) & (time <= 700):\n",
    "        return \"601~700s\"\n",
    "    elif (time > 700) & (time <= 800):\n",
    "        return \"701~800s\"\n",
    "    elif (time > 800) & (time <= 900):\n",
    "        return \"801~900s\"\n",
    "    elif (time > 900) & (time <= 1000):\n",
    "        return \"901~1000s\"\n",
    "    elif (time > 1000) & (time <= 1100):\n",
    "        return \"1001~1100s\"\n",
    "    elif (time > 1100) & (time <= 1200):\n",
    "        return \"1101~1200s\"\n",
    "    elif (time > 1200) & (time <= 1300):\n",
    "        return \"1201~1300s\"\n",
    "    elif (time > 1300) & (time <= 1400):\n",
    "        return \"1301~1400s\"\n",
    "    elif (time > 1400) & (time <= 1500):\n",
    "        return \"1401~1500s\"\n",
    "    elif time > 1500:\n",
    "        return \"1501s以上\""
   ]
  },
  {
   "cell_type": "code",
   "execution_count": 12,
   "metadata": {},
   "outputs": [],
   "source": [
    "train_df[\"DurationOfPitch_cls\"] = train_df[\"DurationOfPitch\"].apply(pitch_time_to_ctgr)\n",
    "test_df[\"DurationOfPitch_cls\"] = test_df[\"DurationOfPitch\"].apply(pitch_time_to_ctgr)"
   ]
  },
  {
   "cell_type": "code",
   "execution_count": 13,
   "metadata": {},
   "outputs": [
    {
     "data": {
      "text/plain": [
       "DurationOfPitch_cls\n",
       "1001~1100s    210\n",
       "1101~1200s     55\n",
       "1201~1300s     31\n",
       "1301~1400s     96\n",
       "1401~1500s     78\n",
       "1501s以上       333\n",
       "400s以下        100\n",
       "401~500s      577\n",
       "501~600s      558\n",
       "601~700s      160\n",
       "701~800s      361\n",
       "801~900s      550\n",
       "901~1000s     259\n",
       "不明            121\n",
       "dtype: int64"
      ]
     },
     "execution_count": 13,
     "metadata": {},
     "output_type": "execute_result"
    }
   ],
   "source": [
    "train_df.groupby([\"DurationOfPitch_cls\"]).size()"
   ]
  },
  {
   "cell_type": "markdown",
   "metadata": {},
   "source": [
    "### NumberOfFollowups\n",
    "\n",
    "100回以上は現実的ではないので、入力ミスと仮定して補正値を代入"
   ]
  },
  {
   "cell_type": "code",
   "execution_count": 14,
   "metadata": {},
   "outputs": [],
   "source": [
    "def followups_num_to_ctgr(num):\n",
    "    if pd.isna(num):\n",
    "        return \"不明\"\n",
    "    elif num == 1:\n",
    "        return \"1回\"\n",
    "    elif num == 2:\n",
    "        return \"2回\"\n",
    "    elif num == 3:\n",
    "        return \"3回\"\n",
    "    elif num == 4:\n",
    "        return \"4回\"\n",
    "    elif num == 5:\n",
    "        return \"5回\"\n",
    "    elif num == 6:\n",
    "        return \"6回\"\n",
    "    elif num == 100:\n",
    "        return \"1回\"\n",
    "    elif num == 200:\n",
    "        return \"2回\"\n",
    "    elif num == 300:\n",
    "        return \"3回\"\n",
    "    elif num == 400:\n",
    "        return \"4回\"\n",
    "    elif num == 500:\n",
    "        return \"5回\"\n",
    "    elif num == 600:\n",
    "        return \"6回\""
   ]
  },
  {
   "cell_type": "code",
   "execution_count": 15,
   "metadata": {},
   "outputs": [],
   "source": [
    "train_df[\"NumberOfFollowups_cls\"] = train_df[\"NumberOfFollowups\"].apply(followups_num_to_ctgr)\n",
    "test_df[\"NumberOfFollowups_cls\"] = test_df[\"NumberOfFollowups\"].apply(followups_num_to_ctgr)"
   ]
  },
  {
   "cell_type": "code",
   "execution_count": 16,
   "metadata": {},
   "outputs": [
    {
     "data": {
      "text/plain": [
       "NumberOfFollowups_cls\n",
       "1回      78\n",
       "2回     108\n",
       "3回    1296\n",
       "4回    1411\n",
       "5回     524\n",
       "6回      39\n",
       "不明      33\n",
       "dtype: int64"
      ]
     },
     "execution_count": 16,
     "metadata": {},
     "output_type": "execute_result"
    }
   ],
   "source": [
    "train_df.groupby([\"NumberOfFollowups_cls\"]).size()"
   ]
  },
  {
   "cell_type": "markdown",
   "metadata": {},
   "source": [
    "### MonthlyIncome"
   ]
  },
  {
   "cell_type": "code",
   "execution_count": 17,
   "metadata": {},
   "outputs": [],
   "source": [
    "def income_num_to_ctgr(income):\n",
    "    if pd.isna(income):\n",
    "        return \"不明\"\n",
    "    elif income <= 250000:\n",
    "        return \"25万円以下\"\n",
    "    elif (income > 250000) & (income <= 300000):\n",
    "        return \"25~30万円\"\n",
    "    elif (income > 300000) & (income <= 350000):\n",
    "        return \"30~35万円\"\n",
    "    elif (income > 350000) & (income <= 400000):\n",
    "        return \"35~40万円\"\n",
    "    elif income > 400000:\n",
    "        return \"40万円以上\""
   ]
  },
  {
   "cell_type": "code",
   "execution_count": 18,
   "metadata": {},
   "outputs": [],
   "source": [
    "train_df[\"MonthlyIncome_cls\"] = train_df[\"MonthlyIncome\"].apply(income_num_to_ctgr)\n",
    "test_df[\"MonthlyIncome_cls\"] = test_df[\"MonthlyIncome\"].apply(income_num_to_ctgr)"
   ]
  },
  {
   "cell_type": "code",
   "execution_count": 19,
   "metadata": {},
   "outputs": [
    {
     "data": {
      "text/plain": [
       "MonthlyIncome_cls\n",
       "25~30万円     832\n",
       "25万円以下       37\n",
       "30~35万円    1003\n",
       "35~40万円     807\n",
       "40万円以上      754\n",
       "不明           56\n",
       "dtype: int64"
      ]
     },
     "execution_count": 19,
     "metadata": {},
     "output_type": "execute_result"
    }
   ],
   "source": [
    "train_df.groupby([\"MonthlyIncome_cls\"]).size()"
   ]
  },
  {
   "cell_type": "markdown",
   "metadata": {},
   "source": [
    "### TypeofContact"
   ]
  },
  {
   "cell_type": "code",
   "execution_count": 20,
   "metadata": {},
   "outputs": [],
   "source": [
    "# def contact_null_to_ctgr(contact):\n",
    "#     if pd.isna(contact):\n",
    "#         return \"不明\"\n",
    "#     else:\n",
    "#         return contact"
   ]
  },
  {
   "cell_type": "code",
   "execution_count": 21,
   "metadata": {},
   "outputs": [],
   "source": [
    "# train_df[\"TypeofContact\"] = train_df[\"TypeofContact\"].apply(contact_null_to_ctgr)\n",
    "# test_df[\"TypeofContact\"] = test_df[\"TypeofContact\"].apply(contact_null_to_ctgr)"
   ]
  },
  {
   "cell_type": "markdown",
   "metadata": {},
   "source": [
    "## 出力\n"
   ]
  },
  {
   "cell_type": "code",
   "execution_count": 22,
   "metadata": {},
   "outputs": [],
   "source": [
    "train_df.to_csv(path_input + \"preprocess_train.csv\", index=False, header=True)\n",
    "test_df.to_csv(path_input + \"preprocess_test.csv\", index=False, header=True)"
   ]
  }
 ],
 "metadata": {
  "kernelspec": {
   "display_name": "Python 3 (ipykernel)",
   "language": "python",
   "name": "python3"
  },
  "language_info": {
   "codemirror_mode": {
    "name": "ipython",
    "version": 3
   },
   "file_extension": ".py",
   "mimetype": "text/x-python",
   "name": "python",
   "nbconvert_exporter": "python",
   "pygments_lexer": "ipython3",
   "version": "3.10.9"
  }
 },
 "nbformat": 4,
 "nbformat_minor": 4
}
